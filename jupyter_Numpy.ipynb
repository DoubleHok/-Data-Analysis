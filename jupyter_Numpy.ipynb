{
 "cells": [
  {
   "cell_type": "code",
   "execution_count": 1,
   "metadata": {},
   "outputs": [],
   "source": [
    "import numpy as np"
   ]
  },
  {
   "cell_type": "code",
   "execution_count": 2,
   "metadata": {},
   "outputs": [],
   "source": [
    "score = np.array([[80,89,86,67,79],\n",
    "                  [78,97,89,67,81],\n",
    "                  [90,94,78,67,74],\n",
    "                  [91,91,90,67,69],\n",
    "                  [76,87,75,67,86],\n",
    "                  [70,79,84,67,84],\n",
    "                  [94,92,93,67,64],\n",
    "                  [86,85,83,67,80]])"
   ]
  },
  {
   "cell_type": "code",
   "execution_count": 3,
   "metadata": {},
   "outputs": [
    {
     "data": {
      "text/plain": [
       "array([[80, 89, 86, 67, 79],\n",
       "       [78, 97, 89, 67, 81],\n",
       "       [90, 94, 78, 67, 74],\n",
       "       [91, 91, 90, 67, 69],\n",
       "       [76, 87, 75, 67, 86],\n",
       "       [70, 79, 84, 67, 84],\n",
       "       [94, 92, 93, 67, 64],\n",
       "       [86, 85, 83, 67, 80]])"
      ]
     },
     "execution_count": 3,
     "metadata": {},
     "output_type": "execute_result"
    }
   ],
   "source": [
    "score"
   ]
  },
  {
   "cell_type": "code",
   "execution_count": 5,
   "metadata": {},
   "outputs": [
    {
     "data": {
      "text/plain": [
       "numpy.ndarray"
      ]
     },
     "execution_count": 5,
     "metadata": {},
     "output_type": "execute_result"
    }
   ],
   "source": [
    "type(score)"
   ]
  },
  {
   "cell_type": "markdown",
   "metadata": {},
   "source": [
    "## ndarray 与python 原生list运算效率对比"
   ]
  },
  {
   "cell_type": "code",
   "execution_count": 36,
   "metadata": {},
   "outputs": [],
   "source": [
    "import random\n",
    "import time"
   ]
  },
  {
   "cell_type": "code",
   "execution_count": 53,
   "metadata": {},
   "outputs": [],
   "source": [
    "# 生成一个大数据\n",
    "python_list = []\n",
    "for i in range(10000000):\n",
    "    python_list.append(random.random())"
   ]
  },
  {
   "cell_type": "code",
   "execution_count": 54,
   "metadata": {},
   "outputs": [],
   "source": [
    "ndarray_list = np.array(python_list)"
   ]
  },
  {
   "cell_type": "code",
   "execution_count": 55,
   "metadata": {},
   "outputs": [],
   "source": [
    "# 原生python求和\n",
    "t1 = time.time()\n",
    "a = sum(python_list)\n",
    "t2 = time.time()\n",
    "d1 = t2 - t1\n",
    "# ndarray求和\n",
    "t3 = time.time()\n",
    "b = np.sum(ndarray_list)\n",
    "t4 = time.time()\n",
    "d2 = t4 - t3"
   ]
  },
  {
   "cell_type": "code",
   "execution_count": 56,
   "metadata": {},
   "outputs": [
    {
     "data": {
      "text/plain": [
       "0.18785738945007324"
      ]
     },
     "execution_count": 56,
     "metadata": {},
     "output_type": "execute_result"
    }
   ],
   "source": [
    "d1"
   ]
  },
  {
   "cell_type": "code",
   "execution_count": 57,
   "metadata": {},
   "outputs": [
    {
     "data": {
      "text/plain": [
       "0.044965505599975586"
      ]
     },
     "execution_count": 57,
     "metadata": {},
     "output_type": "execute_result"
    }
   ],
   "source": [
    "d2"
   ]
  },
  {
   "cell_type": "code",
   "execution_count": 58,
   "metadata": {},
   "outputs": [
    {
     "data": {
      "text/plain": [
       "array([[80, 89, 86, 67, 79],\n",
       "       [78, 97, 89, 67, 81],\n",
       "       [90, 94, 78, 67, 74],\n",
       "       [91, 91, 90, 67, 69],\n",
       "       [76, 87, 75, 67, 86],\n",
       "       [70, 79, 84, 67, 84],\n",
       "       [94, 92, 93, 67, 64],\n",
       "       [86, 85, 83, 67, 80]])"
      ]
     },
     "execution_count": 58,
     "metadata": {},
     "output_type": "execute_result"
    }
   ],
   "source": [
    "score"
   ]
  },
  {
   "cell_type": "code",
   "execution_count": 59,
   "metadata": {},
   "outputs": [
    {
     "data": {
      "text/plain": [
       "array([1.1, 2.2, 3.3], dtype=float32)"
      ]
     },
     "execution_count": 59,
     "metadata": {},
     "output_type": "execute_result"
    }
   ],
   "source": [
    "np.array([1.1,2.2,3.3],dtype = \"float32\")"
   ]
  },
  {
   "cell_type": "code",
   "execution_count": 60,
   "metadata": {},
   "outputs": [
    {
     "data": {
      "text/plain": [
       "array([1.1, 2.2, 3.3], dtype=float32)"
      ]
     },
     "execution_count": 60,
     "metadata": {},
     "output_type": "execute_result"
    }
   ],
   "source": [
    "np.array([1.1,2.2,3.3],dtype = np.float32)"
   ]
  },
  {
   "cell_type": "markdown",
   "metadata": {},
   "source": [
    "## 生成数组的方法"
   ]
  },
  {
   "cell_type": "code",
   "execution_count": 75,
   "metadata": {},
   "outputs": [
    {
     "data": {
      "text/plain": [
       "array([[1., 1., 1., 1.],\n",
       "       [1., 1., 1., 1.],\n",
       "       [1., 1., 1., 1.]], dtype=float32)"
      ]
     },
     "execution_count": 75,
     "metadata": {},
     "output_type": "execute_result"
    }
   ],
   "source": [
    "np.ones(shape = (3,4),dtype = \"float32\")"
   ]
  },
  {
   "cell_type": "code",
   "execution_count": 76,
   "metadata": {},
   "outputs": [
    {
     "data": {
      "text/plain": [
       "array([[0., 0., 0.],\n",
       "       [0., 0., 0.]], dtype=float32)"
      ]
     },
     "execution_count": 76,
     "metadata": {},
     "output_type": "execute_result"
    }
   ],
   "source": [
    "np.zeros(shape = [2,3],dtype = np.float32)"
   ]
  },
  {
   "cell_type": "code",
   "execution_count": 105,
   "metadata": {},
   "outputs": [
    {
     "data": {
      "text/plain": [
       "array([[   80,    89,    86,    67,    79],\n",
       "       [   78,    97,    89,    67,    81],\n",
       "       [   90,    94,    78,    67,    74],\n",
       "       [   91, 10000,    90,    67,    69],\n",
       "       [   76,    87,    75,    67,    86],\n",
       "       [   70,    79,    84,    67,    84],\n",
       "       [   94,    92,    93,    67,    64],\n",
       "       [   86,    85,    83,    67,    80]])"
      ]
     },
     "execution_count": 105,
     "metadata": {},
     "output_type": "execute_result"
    }
   ],
   "source": [
    "score"
   ]
  },
  {
   "cell_type": "code",
   "execution_count": 102,
   "metadata": {},
   "outputs": [
    {
     "data": {
      "text/plain": [
       "array([[   80,    89,    86,    67,    79],\n",
       "       [   78,    97,    89,    67,    81],\n",
       "       [   90,    94,    78,    67,    74],\n",
       "       [   91, 10000,    90,    67,    69],\n",
       "       [   76,    87,    75,    67,    86],\n",
       "       [   70,    79,    84,    67,    84],\n",
       "       [   94,    92,    93,    67,    64],\n",
       "       [   86,    85,    83,    67,    80]])"
      ]
     },
     "execution_count": 102,
     "metadata": {},
     "output_type": "execute_result"
    }
   ],
   "source": [
    "a1 = np.array(score)\n",
    "a1"
   ]
  },
  {
   "cell_type": "code",
   "execution_count": 98,
   "metadata": {},
   "outputs": [
    {
     "data": {
      "text/plain": [
       "array([[   80,    89,    86,    67,    79],\n",
       "       [   78,    97,    89,    67,    81],\n",
       "       [   90,    94,    78,    67,    74],\n",
       "       [   91, 10000,    90,    67,    69],\n",
       "       [   76,    87,    75,    67,    86],\n",
       "       [   70,    79,    84,    67,    84],\n",
       "       [   94,    92,    93,    67,    64],\n",
       "       [   86,    85,    83,    67,    80]])"
      ]
     },
     "execution_count": 98,
     "metadata": {},
     "output_type": "execute_result"
    }
   ],
   "source": [
    "a2 = np.copy(score)\n",
    "a2"
   ]
  },
  {
   "cell_type": "code",
   "execution_count": 99,
   "metadata": {},
   "outputs": [
    {
     "data": {
      "text/plain": [
       "array([[   80,    89,    86,    67,    79],\n",
       "       [   78,    97,    89,    67,    81],\n",
       "       [   90,    94,    78,    67,    74],\n",
       "       [   91, 10000,    90,    67,    69],\n",
       "       [   76,    87,    75,    67,    86],\n",
       "       [   70,    79,    84,    67,    84],\n",
       "       [   94,    92,    93,    67,    64],\n",
       "       [   86,    85,    83,    67,    80]])"
      ]
     },
     "execution_count": 99,
     "metadata": {},
     "output_type": "execute_result"
    }
   ],
   "source": [
    "a3 = np.asarray(score)\n",
    "a3"
   ]
  },
  {
   "cell_type": "code",
   "execution_count": 92,
   "metadata": {},
   "outputs": [
    {
     "data": {
      "text/plain": [
       "10000"
      ]
     },
     "execution_count": 92,
     "metadata": {},
     "output_type": "execute_result"
    }
   ],
   "source": [
    "score[3,1]"
   ]
  },
  {
   "cell_type": "code",
   "execution_count": 94,
   "metadata": {},
   "outputs": [
    {
     "data": {
      "text/plain": [
       "array([[   80,    89,    86,    67,    79],\n",
       "       [   78,    97,    89,    67,    81],\n",
       "       [   90,    94,    78,    67,    74],\n",
       "       [   91, 10000,    90,    67,    69],\n",
       "       [   76,    87,    75,    67,    86],\n",
       "       [   70,    79,    84,    67,    84],\n",
       "       [   94,    92,    93,    67,    64],\n",
       "       [   86,    85,    83,    67,    80]])"
      ]
     },
     "execution_count": 94,
     "metadata": {},
     "output_type": "execute_result"
    }
   ],
   "source": [
    "score"
   ]
  },
  {
   "cell_type": "code",
   "execution_count": 95,
   "metadata": {},
   "outputs": [
    {
     "data": {
      "text/plain": [
       "array([[   80,    89,    86,    67,    79],\n",
       "       [   78,    97,    89,    67,    81],\n",
       "       [   90,    94,    78,    67,    74],\n",
       "       [   91, 10000,    90,    67,    69],\n",
       "       [   76,    87,    75,    67,    86],\n",
       "       [   70,    79,    84,    67,    84],\n",
       "       [   94,    92,    93,    67,    64],\n",
       "       [   86,    85,    83,    67,    80]])"
      ]
     },
     "execution_count": 95,
     "metadata": {},
     "output_type": "execute_result"
    }
   ],
   "source": [
    "a1"
   ]
  },
  {
   "cell_type": "code",
   "execution_count": 96,
   "metadata": {},
   "outputs": [
    {
     "data": {
      "text/plain": [
       "array([[   80,    89,    86,    67,    79],\n",
       "       [   78,    97,    89,    67,    81],\n",
       "       [   90,    94,    78,    67,    74],\n",
       "       [   91, 10000,    90,    67,    69],\n",
       "       [   76,    87,    75,    67,    86],\n",
       "       [   70,    79,    84,    67,    84],\n",
       "       [   94,    92,    93,    67,    64],\n",
       "       [   86,    85,    83,    67,    80]])"
      ]
     },
     "execution_count": 96,
     "metadata": {},
     "output_type": "execute_result"
    }
   ],
   "source": [
    "a2"
   ]
  },
  {
   "cell_type": "markdown",
   "metadata": {},
   "source": [
    "## 生成固定范围的数组"
   ]
  },
  {
   "cell_type": "code",
   "execution_count": 106,
   "metadata": {},
   "outputs": [
    {
     "data": {
      "text/plain": [
       "array([ 0. ,  2.5,  5. ,  7.5, 10. ])"
      ]
     },
     "execution_count": 106,
     "metadata": {},
     "output_type": "execute_result"
    }
   ],
   "source": [
    "np.linspace(0,10,5)"
   ]
  },
  {
   "cell_type": "code",
   "execution_count": 107,
   "metadata": {},
   "outputs": [
    {
     "data": {
      "text/plain": [
       "array([ 0,  5, 10])"
      ]
     },
     "execution_count": 107,
     "metadata": {},
     "output_type": "execute_result"
    }
   ],
   "source": [
    "np.arange(0,11,5)"
   ]
  },
  {
   "cell_type": "markdown",
   "metadata": {},
   "source": [
    "## 生成随机数组"
   ]
  },
  {
   "cell_type": "code",
   "execution_count": 108,
   "metadata": {},
   "outputs": [],
   "source": [
    "data1 = np.random.uniform(low = -1,high = 1,size = 1000000)"
   ]
  },
  {
   "cell_type": "code",
   "execution_count": 109,
   "metadata": {},
   "outputs": [
    {
     "data": {
      "text/plain": [
       "array([-0.26422696, -0.02861555,  0.05899602, ...,  0.7036517 ,\n",
       "       -0.01729643,  0.21881056])"
      ]
     },
     "execution_count": 109,
     "metadata": {},
     "output_type": "execute_result"
    }
   ],
   "source": [
    "data1"
   ]
  },
  {
   "cell_type": "code",
   "execution_count": 111,
   "metadata": {},
   "outputs": [],
   "source": [
    "import matplotlib.pyplot as plt"
   ]
  },
  {
   "cell_type": "code",
   "execution_count": 112,
   "metadata": {},
   "outputs": [
    {
     "data": {
      "image/png": "[encoded data removed]",
      "text/plain": [
       "<Figure size 2000x1000 with 1 Axes>"
      ]
     },
     "metadata": {
      "needs_background": "light"
     },
     "output_type": "display_data"
    }
   ],
   "source": [
    "# 1、创建画布\n",
    "plt.figure(figsize = (20,10),dpi = 100)\n",
    "# 2、绘制直方图\n",
    "plt.hist(data1,1000)\n",
    "# 3、显示直方图\n",
    "plt.show()"
   ]
  },
  {
   "cell_type": "markdown",
   "metadata": {},
   "source": [
    "## 正态分布"
   ]
  },
  {
   "cell_type": "code",
   "execution_count": 113,
   "metadata": {},
   "outputs": [],
   "source": [
    "data2 = np.random.normal(loc = 1.75,scale = 0.1,size = 1000000)"
   ]
  },
  {
   "cell_type": "code",
   "execution_count": 114,
   "metadata": {},
   "outputs": [
    {
     "data": {
      "text/plain": [
       "array([1.71025436, 1.80309918, 1.71609124, ..., 1.67066356, 1.75842741,\n",
       "       1.87528571])"
      ]
     },
     "execution_count": 114,
     "metadata": {},
     "output_type": "execute_result"
    }
   ],
   "source": [
    "data2"
   ]
  },
  {
   "cell_type": "code",
   "execution_count": 116,
   "metadata": {},
   "outputs": [
    {
     "data": {
      "image/png": "[encoded data removed]",
      "text/plain": [
       "<Figure size 1440x576 with 1 Axes>"
      ]
     },
     "metadata": {
      "needs_background": "light"
     },
     "output_type": "display_data"
    }
   ],
   "source": [
    "# 绘制正态分布直方图\n",
    "# 1、创建画布\n",
    "plt.figure(figsize = (20,8))\n",
    "# 2、绘制直方图\n",
    "plt.hist(data2,1000)\n",
    "# 3、显示直方图\n",
    "plt.show()"
   ]
  },
  {
   "cell_type": "markdown",
   "metadata": {},
   "source": [
    "## 案例：随机生成8只股票2周的交易日涨幅数据"
   ]
  },
  {
   "cell_type": "code",
   "execution_count": 117,
   "metadata": {},
   "outputs": [],
   "source": [
    "stock_change = np.random.normal(loc = 0,scale = 1,size = (8,10))"
   ]
  },
  {
   "cell_type": "code",
   "execution_count": 118,
   "metadata": {},
   "outputs": [
    {
     "data": {
      "text/plain": [
       "array([[-0.92597034, -0.82167989,  0.61495718, -1.06196502,  1.00424114,\n",
       "        -1.0645087 , -1.57797769,  0.6770652 , -0.0913115 , -1.60358811],\n",
       "       [ 0.63216854, -0.65636964, -0.14991591, -0.00804981,  0.08118722,\n",
       "         1.59404422, -0.39285722, -1.81277555, -0.92706613, -1.924165  ],\n",
       "       [-1.32118333,  0.79663341, -0.16180225, -1.93665283, -0.82696778,\n",
       "        -0.95424918, -0.44856872,  0.34961889, -0.40309418,  1.00835709],\n",
       "       [-0.441944  ,  1.25839099, -0.28977542,  0.5840695 ,  0.70638628,\n",
       "        -0.9882839 , -0.35826822,  1.10756087,  0.62352988, -0.51205057],\n",
       "       [-0.67692035, -0.72416274, -2.05482495, -0.72850972,  0.69052021,\n",
       "         0.50146504,  0.39294556, -0.18064633,  1.30230756, -0.29103977],\n",
       "       [ 0.52360282,  0.24278486,  0.17841537, -0.30921866, -0.84986455,\n",
       "         0.37435762, -0.13043615,  0.2356527 , -0.01504303, -0.65211986],\n",
       "       [ 0.41329074, -0.04418892,  1.89861934,  0.51503127,  0.55129964,\n",
       "        -0.21734541,  0.99699081, -0.12770007, -0.04813934, -0.18145846],\n",
       "       [-0.80624202,  0.23685095, -3.58129815, -0.04909853, -0.35117259,\n",
       "        -1.18626203,  0.90071931,  1.63249414,  1.38062042,  2.18527006]])"
      ]
     },
     "execution_count": 118,
     "metadata": {},
     "output_type": "execute_result"
    }
   ],
   "source": [
    "stock_change"
   ]
  },
  {
   "cell_type": "code",
   "execution_count": 125,
   "metadata": {},
   "outputs": [
    {
     "data": {
      "text/plain": [
       "array([-0.92597034, -0.82167989,  0.61495718])"
      ]
     },
     "execution_count": 125,
     "metadata": {},
     "output_type": "execute_result"
    }
   ],
   "source": [
    "# 获取第一个股票的钱3个交易日的涨幅数据\n",
    "stock_change[0,0:3]"
   ]
  },
  {
   "cell_type": "code",
   "execution_count": 126,
   "metadata": {},
   "outputs": [],
   "source": [
    "a1 = np.array([[[1,2,3],[4,5,6]],[[7,8,9],[10,11,12]]])"
   ]
  },
  {
   "cell_type": "code",
   "execution_count": 127,
   "metadata": {},
   "outputs": [
    {
     "data": {
      "text/plain": [
       "array([[[ 1,  2,  3],\n",
       "        [ 4,  5,  6]],\n",
       "\n",
       "       [[ 7,  8,  9],\n",
       "        [10, 11, 12]]])"
      ]
     },
     "execution_count": 127,
     "metadata": {},
     "output_type": "execute_result"
    }
   ],
   "source": [
    "a1"
   ]
  },
  {
   "cell_type": "code",
   "execution_count": 129,
   "metadata": {},
   "outputs": [
    {
     "data": {
      "text/plain": [
       "(2, 2, 3)"
      ]
     },
     "execution_count": 129,
     "metadata": {},
     "output_type": "execute_result"
    }
   ],
   "source": [
    "a1.shape"
   ]
  },
  {
   "cell_type": "code",
   "execution_count": 131,
   "metadata": {},
   "outputs": [],
   "source": [
    "a1[1,0,0] = 70"
   ]
  },
  {
   "cell_type": "code",
   "execution_count": 132,
   "metadata": {},
   "outputs": [
    {
     "data": {
      "text/plain": [
       "array([[[ 1,  2,  3],\n",
       "        [ 4,  5,  6]],\n",
       "\n",
       "       [[70,  8,  9],\n",
       "        [10, 11, 12]]])"
      ]
     },
     "execution_count": 132,
     "metadata": {},
     "output_type": "execute_result"
    }
   ],
   "source": [
    "a1"
   ]
  },
  {
   "cell_type": "code",
   "execution_count": 133,
   "metadata": {},
   "outputs": [
    {
     "data": {
      "text/plain": [
       "(8, 10)"
      ]
     },
     "execution_count": 133,
     "metadata": {},
     "output_type": "execute_result"
    }
   ],
   "source": [
    "stock_change.shape"
   ]
  },
  {
   "cell_type": "code",
   "execution_count": 135,
   "metadata": {},
   "outputs": [
    {
     "data": {
      "text/plain": [
       "array([[-0.92597034, -0.82167989,  0.61495718, -1.06196502,  1.00424114,\n",
       "        -1.0645087 , -1.57797769,  0.6770652 ],\n",
       "       [-0.0913115 , -1.60358811,  0.63216854, -0.65636964, -0.14991591,\n",
       "        -0.00804981,  0.08118722,  1.59404422],\n",
       "       [-0.39285722, -1.81277555, -0.92706613, -1.924165  , -1.32118333,\n",
       "         0.79663341, -0.16180225, -1.93665283],\n",
       "       [-0.82696778, -0.95424918, -0.44856872,  0.34961889, -0.40309418,\n",
       "         1.00835709, -0.441944  ,  1.25839099],\n",
       "       [-0.28977542,  0.5840695 ,  0.70638628, -0.9882839 , -0.35826822,\n",
       "         1.10756087,  0.62352988, -0.51205057],\n",
       "       [-0.67692035, -0.72416274, -2.05482495, -0.72850972,  0.69052021,\n",
       "         0.50146504,  0.39294556, -0.18064633],\n",
       "       [ 1.30230756, -0.29103977,  0.52360282,  0.24278486,  0.17841537,\n",
       "        -0.30921866, -0.84986455,  0.37435762],\n",
       "       [-0.13043615,  0.2356527 , -0.01504303, -0.65211986,  0.41329074,\n",
       "        -0.04418892,  1.89861934,  0.51503127],\n",
       "       [ 0.55129964, -0.21734541,  0.99699081, -0.12770007, -0.04813934,\n",
       "        -0.18145846, -0.80624202,  0.23685095],\n",
       "       [-3.58129815, -0.04909853, -0.35117259, -1.18626203,  0.90071931,\n",
       "         1.63249414,  1.38062042,  2.18527006]])"
      ]
     },
     "execution_count": 135,
     "metadata": {},
     "output_type": "execute_result"
    }
   ],
   "source": [
    "stock_change.reshape(10,8)# 返回新的ndarray，原始数据没有改变"
   ]
  },
  {
   "cell_type": "code",
   "execution_count": 137,
   "metadata": {},
   "outputs": [],
   "source": [
    "stock_change.resize()"
   ]
  },
  {
   "cell_type": "code",
   "execution_count": 138,
   "metadata": {},
   "outputs": [
    {
     "data": {
      "text/plain": [
       "array([[-0.92597034, -0.82167989,  0.61495718, -1.06196502,  1.00424114,\n",
       "        -1.0645087 , -1.57797769,  0.6770652 , -0.0913115 , -1.60358811],\n",
       "       [ 0.63216854, -0.65636964, -0.14991591, -0.00804981,  0.08118722,\n",
       "         1.59404422, -0.39285722, -1.81277555, -0.92706613, -1.924165  ],\n",
       "       [-1.32118333,  0.79663341, -0.16180225, -1.93665283, -0.82696778,\n",
       "        -0.95424918, -0.44856872,  0.34961889, -0.40309418,  1.00835709],\n",
       "       [-0.441944  ,  1.25839099, -0.28977542,  0.5840695 ,  0.70638628,\n",
       "        -0.9882839 , -0.35826822,  1.10756087,  0.62352988, -0.51205057],\n",
       "       [-0.67692035, -0.72416274, -2.05482495, -0.72850972,  0.69052021,\n",
       "         0.50146504,  0.39294556, -0.18064633,  1.30230756, -0.29103977],\n",
       "       [ 0.52360282,  0.24278486,  0.17841537, -0.30921866, -0.84986455,\n",
       "         0.37435762, -0.13043615,  0.2356527 , -0.01504303, -0.65211986],\n",
       "       [ 0.41329074, -0.04418892,  1.89861934,  0.51503127,  0.55129964,\n",
       "        -0.21734541,  0.99699081, -0.12770007, -0.04813934, -0.18145846],\n",
       "       [-0.80624202,  0.23685095, -3.58129815, -0.04909853, -0.35117259,\n",
       "        -1.18626203,  0.90071931,  1.63249414,  1.38062042,  2.18527006]])"
      ]
     },
     "execution_count": 138,
     "metadata": {},
     "output_type": "execute_result"
    }
   ],
   "source": [
    "stock_change"
   ]
  },
  {
   "cell_type": "code",
   "execution_count": 139,
   "metadata": {},
   "outputs": [
    {
     "data": {
      "text/plain": [
       "(8, 10)"
      ]
     },
     "execution_count": 139,
     "metadata": {},
     "output_type": "execute_result"
    }
   ],
   "source": [
    "stock_change.shape"
   ]
  },
  {
   "cell_type": "code",
   "execution_count": 140,
   "metadata": {},
   "outputs": [],
   "source": [
    "stock_change.resize()# 无返回值，对原始ndarray进行了修改"
   ]
  },
  {
   "cell_type": "code",
   "execution_count": 141,
   "metadata": {},
   "outputs": [
    {
     "data": {
      "text/plain": [
       "(8, 10)"
      ]
     },
     "execution_count": 141,
     "metadata": {},
     "output_type": "execute_result"
    }
   ],
   "source": [
    "stock_change.shape"
   ]
  },
  {
   "cell_type": "code",
   "execution_count": 143,
   "metadata": {},
   "outputs": [
    {
     "data": {
      "text/plain": [
       "array([[-0.92597034,  0.63216854, -1.32118333, -0.441944  , -0.67692035,\n",
       "         0.52360282,  0.41329074, -0.80624202],\n",
       "       [-0.82167989, -0.65636964,  0.79663341,  1.25839099, -0.72416274,\n",
       "         0.24278486, -0.04418892,  0.23685095],\n",
       "       [ 0.61495718, -0.14991591, -0.16180225, -0.28977542, -2.05482495,\n",
       "         0.17841537,  1.89861934, -3.58129815],\n",
       "       [-1.06196502, -0.00804981, -1.93665283,  0.5840695 , -0.72850972,\n",
       "        -0.30921866,  0.51503127, -0.04909853],\n",
       "       [ 1.00424114,  0.08118722, -0.82696778,  0.70638628,  0.69052021,\n",
       "        -0.84986455,  0.55129964, -0.35117259],\n",
       "       [-1.0645087 ,  1.59404422, -0.95424918, -0.9882839 ,  0.50146504,\n",
       "         0.37435762, -0.21734541, -1.18626203],\n",
       "       [-1.57797769, -0.39285722, -0.44856872, -0.35826822,  0.39294556,\n",
       "        -0.13043615,  0.99699081,  0.90071931],\n",
       "       [ 0.6770652 , -1.81277555,  0.34961889,  1.10756087, -0.18064633,\n",
       "         0.2356527 , -0.12770007,  1.63249414],\n",
       "       [-0.0913115 , -0.92706613, -0.40309418,  0.62352988,  1.30230756,\n",
       "        -0.01504303, -0.04813934,  1.38062042],\n",
       "       [-1.60358811, -1.924165  ,  1.00835709, -0.51205057, -0.29103977,\n",
       "        -0.65211986, -0.18145846,  2.18527006]])"
      ]
     },
     "execution_count": 143,
     "metadata": {},
     "output_type": "execute_result"
    }
   ],
   "source": [
    "stock_change.T # 转置 行列相互转换"
   ]
  },
  {
   "cell_type": "markdown",
   "metadata": {},
   "source": [
    "## 类型修改"
   ]
  },
  {
   "cell_type": "code",
   "execution_count": 144,
   "metadata": {},
   "outputs": [
    {
     "data": {
      "text/plain": [
       "array([[ 0,  0,  0, -1,  1, -1, -1,  0,  0, -1],\n",
       "       [ 0,  0,  0,  0,  0,  1,  0, -1,  0, -1],\n",
       "       [-1,  0,  0, -1,  0,  0,  0,  0,  0,  1],\n",
       "       [ 0,  1,  0,  0,  0,  0,  0,  1,  0,  0],\n",
       "       [ 0,  0, -2,  0,  0,  0,  0,  0,  1,  0],\n",
       "       [ 0,  0,  0,  0,  0,  0,  0,  0,  0,  0],\n",
       "       [ 0,  0,  1,  0,  0,  0,  0,  0,  0,  0],\n",
       "       [ 0,  0, -3,  0,  0, -1,  0,  1,  1,  2]])"
      ]
     },
     "execution_count": 144,
     "metadata": {},
     "output_type": "execute_result"
    }
   ],
   "source": [
    "stock_change.astype(\"int32\")"
   ]
  },
  {
   "cell_type": "code",
   "execution_count": 145,
   "metadata": {},
   "outputs": [
    {
     "data": {
      "text/plain": [
       "b':l\\xf7\\x8e\\x8c\\xa1\\xed\\xbfY\\xac\\xd7\\xa03K\\xea\\xbfxz\\x93\\xae\\xba\\xad\\xe3?\\xda=\\xc5\\x07\\xcf\\xfd\\xf0\\xbfz\\x7f\\x05)_\\x11\\xf0?\\'f\\x06E:\\x08\\xf1\\xbf\\xe5\\x12\\x9c\\x87e?\\xf9\\xbf\\xe8j0\\xa4\\x84\\xaa\\xe5?\\x86\\x04\\xed\\xcd0`\\xb7\\xbf\\x94\\x9b\\xf8\\x01L\\xa8\\xf9\\xbf3l\\x04\\x84\\xb9:\\xe4?b\\x00\\xff\\xe6\\xfa\\x00\\xe5\\xbf\\xaak\\x00\\xcfq0\\xc3\\xbfG\\x93\\x1e\\x16k|\\x80\\xbf:\\x9e1\\x86\\xaf\\xc8\\xb4?\\xaa\\x90u\\x824\\x81\\xf9?E\\'\\xef\\x9c\\x92$\\xd9\\xbf\\xd9b|\\xef \\x01\\xfd\\xbfb\\x80\\xec\\x95\\x86\\xaa\\xed\\xbf+\\x99c=a\\xc9\\xfe\\xbf\\x08\\x0e\\xe1!\\x91#\\xf5\\xbfd\\xf7!Y\\x05~\\xe9?\\x8d\\x105\\xa8\\xef\\xb5\\xc4\\xbf-\\xf5\\xad\\xae\\x87\\xfc\\xfe\\xbf\\x91\\n\\x1c \\x85v\\xea\\xbf\\xc0\\xac\\x15\\x935\\x89\\xee\\xbf\\xfcl\\x9a\\x96Y\\xb5\\xdc\\xbf\\xed\\xd1R\\xe6\\'`\\xd6?\\x009X\\x87K\\xcc\\xd9\\xbf\\x92SA\\x0b;\"\\xf0?W\\xea\\x7f~\\xcfH\\xdc\\xbf-\\xddk\\x96^\"\\xf4?F\\xd6\\x174\\xae\\x8b\\xd2\\xbf\\xf8\\xec\\xc0\\x83\\xb2\\xb0\\xe2?\\t\\x89\\x93d\\xb7\\x9a\\xe6?\\xae`\\x82\\x8d\\x05\\xa0\\xef\\xbfq\\xdew\\xcf\\xdd\\xed\\xd6\\xbf\\x99\\x04x\\xbf\\x91\\xb8\\xf1?\\xf7$\\xfb\\xf1\\xf4\\xf3\\xe3?\\xb8\\xbe\\x89\\xe0\\xb7b\\xe0\\xbf\\xcf\\xe1\\x99\\xdbT\\xa9\\xe5\\xbf\\x8f\\x11\\xfeTW,\\xe7\\xbf\\x97\\x90\\xc2\\x0fHp\\x00\\xc0\\x02\\x92\\xa6\\x9c\\xf3O\\xe7\\xbf8\\xc0\\x12\\xd6\\xbd\\x18\\xe6?\\xbf\\xbe\\xc3h\\x00\\x0c\\xe0?\\xdb*\\x03 \\x05&\\xd9?Zl45k\\x1f\\xc7\\xbf\\x12\\xef\\x88r@\\xd6\\xf4?\\x82ZpAe\\xa0\\xd2\\xbf\\xe8\\xd5\\x82\\xb1Z\\xc1\\xe0?\\xff\\'\\xe8\\x06\\x93\\x13\\xcf?}^\\x8d\\x8fP\\xd6\\xc6?\\xdfvj\\x0f=\\xca\\xd3\\xbf\\xec\\x97\\x07\"\\x172\\xeb\\xbf\\xb2\\xfc\\xc1\\xa6y\\xf5\\xd7?\\xa8\"\\xee\\xb1!\\xb2\\xc0\\xbf\\xe1z\\xbe\\x17\\xde)\\xce?\\x0e\\xd7O\\xb4\\xe0\\xce\\x8e\\xbf\\xfc\\xd9\\xe7v*\\xde\\xe4\\xbf\\xab\\xe9p\\xfcZs\\xda?\\x88\\x1a7)\\xee\\x9f\\xa6\\xbf\\x90\\x02\\xb8\\xab\\xbe`\\xfe?D\\x85\\x16\\xd9\"{\\xe0?\\xa8m\\xb2#?\\xa4\\xe1?\\xbd\\x86\\x99m\\xf9\\xd1\\xcb\\xbf\\xdb\\xfb\\xa4GY\\xe7\\xef?\\x03\\x15\\x8a\\xcdyX\\xc0\\xbf\\x19\\x90|\\x0e\\xb8\\xa5\\xa8\\xbf\\xe5\\xdc\\xed\\xe7\\x07:\\xc7\\xbf\\x18-\\x90\\x12\\xbc\\xcc\\xe9\\xbfZ\\x99\\x87\\xca!Q\\xce?f\\xe7r\\xa5\\x7f\\xa6\\x0c\\xc0\\xb4\\x9a\\x7f@q#\\xa9\\xbf\\xbe\\xb7\\x1e\\x98\\x9cy\\xd6\\xbf\\xbe\\xad\\xb1\\xe3\\xed\\xfa\\xf2\\xbf\\x9ay\\xaeK\\xb1\\xd2\\xec?\\x14\\xe5\\x1e,\\xb2\\x1e\\xfa?\\x9e\\xf6\\x13p\\x05\\x17\\xf6?\\xb5\\x87C\\xden{\\x01@'"
      ]
     },
     "execution_count": 145,
     "metadata": {},
     "output_type": "execute_result"
    }
   ],
   "source": [
    "stock_change.tostring()"
   ]
  },
  {
   "cell_type": "markdown",
   "metadata": {},
   "source": [
    "## 数据的去重"
   ]
  },
  {
   "cell_type": "code",
   "execution_count": 146,
   "metadata": {},
   "outputs": [],
   "source": [
    "temp = np.array([[1,2,3,4],[3,4,5,6]])"
   ]
  },
  {
   "cell_type": "code",
   "execution_count": 147,
   "metadata": {},
   "outputs": [
    {
     "data": {
      "text/plain": [
       "array([[1, 2, 3, 4],\n",
       "       [3, 4, 5, 6]])"
      ]
     },
     "execution_count": 147,
     "metadata": {},
     "output_type": "execute_result"
    }
   ],
   "source": [
    "temp"
   ]
  },
  {
   "cell_type": "code",
   "execution_count": 148,
   "metadata": {},
   "outputs": [
    {
     "data": {
      "text/plain": [
       "array([1, 2, 3, 4, 5, 6])"
      ]
     },
     "execution_count": 148,
     "metadata": {},
     "output_type": "execute_result"
    }
   ],
   "source": [
    "np.unique(temp)"
   ]
  },
  {
   "cell_type": "code",
   "execution_count": 149,
   "metadata": {},
   "outputs": [
    {
     "data": {
      "text/plain": [
       "{1, 2, 3, 4, 5, 6}"
      ]
     },
     "execution_count": 149,
     "metadata": {},
     "output_type": "execute_result"
    }
   ],
   "source": [
    "set(temp.flatten())"
   ]
  },
  {
   "cell_type": "code",
   "execution_count": 150,
   "metadata": {},
   "outputs": [
    {
     "data": {
      "text/plain": [
       "array([1, 2, 3, 4, 3, 4, 5, 6])"
      ]
     },
     "execution_count": 150,
     "metadata": {},
     "output_type": "execute_result"
    }
   ],
   "source": [
    "temp.flatten()"
   ]
  },
  {
   "cell_type": "markdown",
   "metadata": {},
   "source": [
    "## ndarray 运算"
   ]
  },
  {
   "cell_type": "markdown",
   "metadata": {},
   "source": [
    "### 逻辑运算"
   ]
  },
  {
   "cell_type": "code",
   "execution_count": 154,
   "metadata": {},
   "outputs": [
    {
     "data": {
      "text/plain": [
       "array([[-0.92597034, -0.82167989,  0.61495718, -1.06196502,  1.00424114,\n",
       "        -1.0645087 , -1.57797769,  0.6770652 , -0.0913115 , -1.60358811],\n",
       "       [ 0.63216854, -0.65636964, -0.14991591, -0.00804981,  0.08118722,\n",
       "         1.59404422, -0.39285722, -1.81277555, -0.92706613, -1.924165  ],\n",
       "       [-1.32118333,  0.79663341, -0.16180225, -1.93665283, -0.82696778,\n",
       "        -0.95424918, -0.44856872,  0.34961889, -0.40309418,  1.00835709],\n",
       "       [-0.441944  ,  1.25839099, -0.28977542,  0.5840695 ,  0.70638628,\n",
       "        -0.9882839 , -0.35826822,  1.10756087,  0.62352988, -0.51205057],\n",
       "       [-0.67692035, -0.72416274, -2.05482495, -0.72850972,  0.69052021,\n",
       "         0.50146504,  0.39294556, -0.18064633,  1.30230756, -0.29103977],\n",
       "       [ 0.52360282,  0.24278486,  0.17841537, -0.30921866, -0.84986455,\n",
       "         0.37435762, -0.13043615,  0.2356527 , -0.01504303, -0.65211986],\n",
       "       [ 0.41329074, -0.04418892,  1.89861934,  0.51503127,  0.55129964,\n",
       "        -0.21734541,  0.99699081, -0.12770007, -0.04813934, -0.18145846],\n",
       "       [-0.80624202,  0.23685095, -3.58129815, -0.04909853, -0.35117259,\n",
       "        -1.18626203,  0.90071931,  1.63249414,  1.38062042,  2.18527006]])"
      ]
     },
     "execution_count": 154,
     "metadata": {},
     "output_type": "execute_result"
    }
   ],
   "source": [
    "stock_change"
   ]
  },
  {
   "cell_type": "code",
   "execution_count": 155,
   "metadata": {},
   "outputs": [
    {
     "data": {
      "text/plain": [
       "array([[False, False,  True, False,  True, False, False,  True, False,\n",
       "        False],\n",
       "       [ True, False, False, False, False,  True, False, False, False,\n",
       "        False],\n",
       "       [False,  True, False, False, False, False, False, False, False,\n",
       "         True],\n",
       "       [False,  True, False,  True,  True, False, False,  True,  True,\n",
       "        False],\n",
       "       [False, False, False, False,  True,  True, False, False,  True,\n",
       "        False],\n",
       "       [ True, False, False, False, False, False, False, False, False,\n",
       "        False],\n",
       "       [False, False,  True,  True,  True, False,  True, False, False,\n",
       "        False],\n",
       "       [False, False, False, False, False, False,  True,  True,  True,\n",
       "         True]])"
      ]
     },
     "execution_count": 155,
     "metadata": {},
     "output_type": "execute_result"
    }
   ],
   "source": [
    "# 逻辑判断，如果涨跌幅大于0.5就标记Ture 否则标记为False\n",
    "stock_change > 0.5"
   ]
  },
  {
   "cell_type": "code",
   "execution_count": 157,
   "metadata": {},
   "outputs": [],
   "source": [
    "stock_change[stock_change>0.5] = 1 # 对布尔值进行操作"
   ]
  },
  {
   "cell_type": "code",
   "execution_count": 158,
   "metadata": {},
   "outputs": [
    {
     "data": {
      "text/plain": [
       "array([[-0.92597034, -0.82167989,  1.        , -1.06196502,  1.        ,\n",
       "        -1.0645087 , -1.57797769,  1.        , -0.0913115 , -1.60358811],\n",
       "       [ 1.        , -0.65636964, -0.14991591, -0.00804981,  0.08118722,\n",
       "         1.        , -0.39285722, -1.81277555, -0.92706613, -1.924165  ],\n",
       "       [-1.32118333,  1.        , -0.16180225, -1.93665283, -0.82696778,\n",
       "        -0.95424918, -0.44856872,  0.34961889, -0.40309418,  1.        ],\n",
       "       [-0.441944  ,  1.        , -0.28977542,  1.        ,  1.        ,\n",
       "        -0.9882839 , -0.35826822,  1.        ,  1.        , -0.51205057],\n",
       "       [-0.67692035, -0.72416274, -2.05482495, -0.72850972,  1.        ,\n",
       "         1.        ,  0.39294556, -0.18064633,  1.        , -0.29103977],\n",
       "       [ 1.        ,  0.24278486,  0.17841537, -0.30921866, -0.84986455,\n",
       "         0.37435762, -0.13043615,  0.2356527 , -0.01504303, -0.65211986],\n",
       "       [ 0.41329074, -0.04418892,  1.        ,  1.        ,  1.        ,\n",
       "        -0.21734541,  1.        , -0.12770007, -0.04813934, -0.18145846],\n",
       "       [-0.80624202,  0.23685095, -3.58129815, -0.04909853, -0.35117259,\n",
       "        -1.18626203,  1.        ,  1.        ,  1.        ,  1.        ]])"
      ]
     },
     "execution_count": 158,
     "metadata": {},
     "output_type": "execute_result"
    }
   ],
   "source": [
    "stock_change"
   ]
  },
  {
   "cell_type": "code",
   "execution_count": 160,
   "metadata": {},
   "outputs": [
    {
     "data": {
      "text/plain": [
       "array([[-0.92597034, -0.82167989,  1.        , -1.06196502,  1.        ],\n",
       "       [ 1.        , -0.65636964, -0.14991591, -0.00804981,  0.08118722]])"
      ]
     },
     "execution_count": 160,
     "metadata": {},
     "output_type": "execute_result"
    }
   ],
   "source": [
    "stock_change[0:2,0:5] # 逗号前表示row，逗号后表示column"
   ]
  },
  {
   "cell_type": "code",
   "execution_count": 159,
   "metadata": {},
   "outputs": [
    {
     "data": {
      "text/plain": [
       "array([[False, False,  True, False,  True],\n",
       "       [ True, False, False, False,  True]])"
      ]
     },
     "execution_count": 159,
     "metadata": {},
     "output_type": "execute_result"
    }
   ],
   "source": [
    "# 判断stock_change[0:2,0:5]是否全是上涨的\n",
    "stock_change[0:2,0:5] >0"
   ]
  },
  {
   "cell_type": "code",
   "execution_count": 161,
   "metadata": {},
   "outputs": [
    {
     "data": {
      "text/plain": [
       "False"
      ]
     },
     "execution_count": 161,
     "metadata": {},
     "output_type": "execute_result"
    }
   ],
   "source": [
    "np.all(stock_change[0:2,0:5] >0)"
   ]
  },
  {
   "cell_type": "code",
   "execution_count": 162,
   "metadata": {},
   "outputs": [
    {
     "data": {
      "text/plain": [
       "True"
      ]
     },
     "execution_count": 162,
     "metadata": {},
     "output_type": "execute_result"
    }
   ],
   "source": [
    "np.any(stock_change[0:2,0:5] >0)"
   ]
  },
  {
   "cell_type": "markdown",
   "metadata": {},
   "source": [
    "## 判断前四个股票前四天的涨跌幅，大于0的置为1，否则为0"
   ]
  },
  {
   "cell_type": "code",
   "execution_count": 163,
   "metadata": {},
   "outputs": [],
   "source": [
    "temp = stock_change[:4,:4]"
   ]
  },
  {
   "cell_type": "code",
   "execution_count": 164,
   "metadata": {},
   "outputs": [
    {
     "data": {
      "text/plain": [
       "array([[-0.92597034, -0.82167989,  1.        , -1.06196502],\n",
       "       [ 1.        , -0.65636964, -0.14991591, -0.00804981],\n",
       "       [-1.32118333,  1.        , -0.16180225, -1.93665283],\n",
       "       [-0.441944  ,  1.        , -0.28977542,  1.        ]])"
      ]
     },
     "execution_count": 164,
     "metadata": {},
     "output_type": "execute_result"
    }
   ],
   "source": [
    "temp"
   ]
  },
  {
   "cell_type": "code",
   "execution_count": 166,
   "metadata": {},
   "outputs": [
    {
     "data": {
      "text/plain": [
       "array([[0, 0, 1, 0],\n",
       "       [1, 0, 0, 0],\n",
       "       [0, 1, 0, 0],\n",
       "       [0, 1, 0, 1]])"
      ]
     },
     "execution_count": 166,
     "metadata": {},
     "output_type": "execute_result"
    }
   ],
   "source": [
    "np.where(temp>0,1,0)"
   ]
  },
  {
   "cell_type": "markdown",
   "metadata": {},
   "source": [
    "### 判断前四个股票前四天的涨跌幅 大于0.5或者小于-0.5的，换为1，否则为0"
   ]
  },
  {
   "cell_type": "code",
   "execution_count": 167,
   "metadata": {},
   "outputs": [
    {
     "data": {
      "text/plain": [
       "array([[False, False, False, False],\n",
       "       [False, False, False, False],\n",
       "       [False, False, False, False],\n",
       "       [False, False, False, False]])"
      ]
     },
     "execution_count": 167,
     "metadata": {},
     "output_type": "execute_result"
    }
   ],
   "source": [
    "np.logical_and(temp > 0.5,temp < -0.5)# 逻辑与"
   ]
  },
  {
   "cell_type": "code",
   "execution_count": 168,
   "metadata": {},
   "outputs": [
    {
     "data": {
      "text/plain": [
       "array([[0, 0, 0, 0],\n",
       "       [0, 0, 0, 0],\n",
       "       [0, 0, 0, 0],\n",
       "       [0, 0, 0, 0]])"
      ]
     },
     "execution_count": 168,
     "metadata": {},
     "output_type": "execute_result"
    }
   ],
   "source": [
    "np.where(np.logical_and(temp > 0.5,temp < -0.5),1,0)"
   ]
  },
  {
   "cell_type": "markdown",
   "metadata": {},
   "source": [
    "## 数组与数的运算"
   ]
  },
  {
   "cell_type": "code",
   "execution_count": 169,
   "metadata": {},
   "outputs": [],
   "source": [
    "arr = np.array([[1,2,3,4,2,1],[5,6,1,2,3,1]])"
   ]
  },
  {
   "cell_type": "code",
   "execution_count": 170,
   "metadata": {},
   "outputs": [
    {
     "data": {
      "text/plain": [
       "array([[1, 2, 3, 4, 2, 1],\n",
       "       [5, 6, 1, 2, 3, 1]])"
      ]
     },
     "execution_count": 170,
     "metadata": {},
     "output_type": "execute_result"
    }
   ],
   "source": [
    "arr"
   ]
  },
  {
   "cell_type": "code",
   "execution_count": 172,
   "metadata": {},
   "outputs": [
    {
     "data": {
      "text/plain": [
       "(array([[2, 3, 4, 5, 3, 2],\n",
       "        [6, 7, 2, 3, 4, 2]]), array([[0.5, 1. , 1.5, 2. , 1. , 0.5],\n",
       "        [2.5, 3. , 0.5, 1. , 1.5, 0.5]]))"
      ]
     },
     "execution_count": 172,
     "metadata": {},
     "output_type": "execute_result"
    }
   ],
   "source": [
    "arr+1,arr/2"
   ]
  },
  {
   "cell_type": "code",
   "execution_count": 174,
   "metadata": {},
   "outputs": [],
   "source": [
    "a = [1,2,3,4,5]"
   ]
  },
  {
   "cell_type": "code",
   "execution_count": 175,
   "metadata": {},
   "outputs": [
    {
     "data": {
      "text/plain": [
       "[1, 2, 3, 4, 5, 1, 2, 3, 4, 5, 1, 2, 3, 4, 5]"
      ]
     },
     "execution_count": 175,
     "metadata": {},
     "output_type": "execute_result"
    }
   ],
   "source": [
    "a*3"
   ]
  },
  {
   "cell_type": "markdown",
   "metadata": {},
   "source": [
    "## 数组与数组的运算"
   ]
  },
  {
   "cell_type": "code",
   "execution_count": 184,
   "metadata": {},
   "outputs": [],
   "source": [
    "arr1 = np.array([[1,2,3,2,1,4],[5,6,1,2,3,4]])\n",
    "arr2 = np.array([[1],[2]])"
   ]
  },
  {
   "cell_type": "code",
   "execution_count": 185,
   "metadata": {},
   "outputs": [],
   "source": [
    "a = np.shape(arr1)\n",
    "b = np.shape(arr2)"
   ]
  },
  {
   "cell_type": "code",
   "execution_count": 186,
   "metadata": {},
   "outputs": [
    {
     "data": {
      "text/plain": [
       "((2, 6), (2, 1))"
      ]
     },
     "execution_count": 186,
     "metadata": {},
     "output_type": "execute_result"
    }
   ],
   "source": [
    "a,b"
   ]
  },
  {
   "cell_type": "code",
   "execution_count": 187,
   "metadata": {},
   "outputs": [
    {
     "data": {
      "text/plain": [
       "array([[2, 3, 4, 3, 2, 5],\n",
       "       [7, 8, 3, 4, 5, 6]])"
      ]
     },
     "execution_count": 187,
     "metadata": {},
     "output_type": "execute_result"
    }
   ],
   "source": [
    "arr1 +arr2"
   ]
  },
  {
   "cell_type": "code",
   "execution_count": 188,
   "metadata": {},
   "outputs": [
    {
     "data": {
      "text/plain": [
       "array([[ 1,  2,  3,  2,  1,  4],\n",
       "       [10, 12,  2,  4,  6,  8]])"
      ]
     },
     "execution_count": 188,
     "metadata": {},
     "output_type": "execute_result"
    }
   ],
   "source": [
    "arr1*arr2"
   ]
  },
  {
   "cell_type": "markdown",
   "metadata": {},
   "source": [
    "## 矩阵运算"
   ]
  },
  {
   "cell_type": "code",
   "execution_count": 190,
   "metadata": {},
   "outputs": [],
   "source": [
    "# ndarray 存储矩阵\n",
    "data = np.array([[80,86],[82,80],[85,78],[90,90],[86,82],[78,80],[92,94]])"
   ]
  },
  {
   "cell_type": "code",
   "execution_count": 191,
   "metadata": {},
   "outputs": [
    {
     "data": {
      "text/plain": [
       "array([[80, 86],\n",
       "       [82, 80],\n",
       "       [85, 78],\n",
       "       [90, 90],\n",
       "       [86, 82],\n",
       "       [78, 80],\n",
       "       [92, 94]])"
      ]
     },
     "execution_count": 191,
     "metadata": {},
     "output_type": "execute_result"
    }
   ],
   "source": [
    "data"
   ]
  },
  {
   "cell_type": "code",
   "execution_count": 197,
   "metadata": {},
   "outputs": [
    {
     "data": {
      "text/plain": [
       "numpy.ndarray"
      ]
     },
     "execution_count": 197,
     "metadata": {},
     "output_type": "execute_result"
    }
   ],
   "source": [
    "type(data)"
   ]
  },
  {
   "cell_type": "code",
   "execution_count": 198,
   "metadata": {},
   "outputs": [],
   "source": [
    "# matrix存储矩阵\n",
    "data_map = np.mat([[80, 86],\n",
    "       [82, 80],\n",
    "       [85, 78],\n",
    "       [90, 90],\n",
    "       [86, 82],\n",
    "       [78, 80],\n",
    "       [92, 94]])"
   ]
  },
  {
   "cell_type": "code",
   "execution_count": 199,
   "metadata": {},
   "outputs": [
    {
     "data": {
      "text/plain": [
       "matrix([[80, 86],\n",
       "        [82, 80],\n",
       "        [85, 78],\n",
       "        [90, 90],\n",
       "        [86, 82],\n",
       "        [78, 80],\n",
       "        [92, 94]])"
      ]
     },
     "execution_count": 199,
     "metadata": {},
     "output_type": "execute_result"
    }
   ],
   "source": [
    "data_map"
   ]
  },
  {
   "cell_type": "code",
   "execution_count": 200,
   "metadata": {},
   "outputs": [
    {
     "data": {
      "text/plain": [
       "numpy.matrixlib.defmatrix.matrix"
      ]
     },
     "execution_count": 200,
     "metadata": {},
     "output_type": "execute_result"
    }
   ],
   "source": [
    "type(data_map)"
   ]
  },
  {
   "cell_type": "code",
   "execution_count": 216,
   "metadata": {},
   "outputs": [],
   "source": [
    "weight_mat = np.array([[0.3],[0.7]])"
   ]
  },
  {
   "cell_type": "code",
   "execution_count": 217,
   "metadata": {},
   "outputs": [
    {
     "data": {
      "text/plain": [
       "numpy.ndarray"
      ]
     },
     "execution_count": 217,
     "metadata": {},
     "output_type": "execute_result"
    }
   ],
   "source": [
    "type(weight_mat)"
   ]
  },
  {
   "cell_type": "code",
   "execution_count": 208,
   "metadata": {},
   "outputs": [
    {
     "data": {
      "text/plain": [
       "matrix([[0.3],\n",
       "        [0.7]])"
      ]
     },
     "execution_count": 208,
     "metadata": {},
     "output_type": "execute_result"
    }
   ],
   "source": [
    "np.mat(weight_mat)"
   ]
  },
  {
   "cell_type": "code",
   "execution_count": 209,
   "metadata": {},
   "outputs": [],
   "source": [
    "final_score = data_map*weight_mat"
   ]
  },
  {
   "cell_type": "code",
   "execution_count": 210,
   "metadata": {},
   "outputs": [
    {
     "data": {
      "text/plain": [
       "matrix([[84.2],\n",
       "        [80.6],\n",
       "        [80.1],\n",
       "        [90. ],\n",
       "        [83.2],\n",
       "        [79.4],\n",
       "        [93.4]])"
      ]
     },
     "execution_count": 210,
     "metadata": {},
     "output_type": "execute_result"
    }
   ],
   "source": [
    "final_score"
   ]
  },
  {
   "cell_type": "code",
   "execution_count": 211,
   "metadata": {},
   "outputs": [
    {
     "data": {
      "text/plain": [
       "matrix([[84.2],\n",
       "        [80.6],\n",
       "        [80.1],\n",
       "        [90. ],\n",
       "        [83.2],\n",
       "        [79.4],\n",
       "        [93.4]])"
      ]
     },
     "execution_count": 211,
     "metadata": {},
     "output_type": "execute_result"
    }
   ],
   "source": [
    "np.matmul(data_map,weight_mat)# 矩阵乘法"
   ]
  },
  {
   "cell_type": "code",
   "execution_count": 212,
   "metadata": {},
   "outputs": [
    {
     "data": {
      "text/plain": [
       "matrix([[84.2],\n",
       "        [80.6],\n",
       "        [80.1],\n",
       "        [90. ],\n",
       "        [83.2],\n",
       "        [79.4],\n",
       "        [93.4]])"
      ]
     },
     "execution_count": 212,
     "metadata": {},
     "output_type": "execute_result"
    }
   ],
   "source": [
    "np.dot(data_map,weight_mat)# 矩阵乘法"
   ]
  },
  {
   "cell_type": "code",
   "execution_count": 213,
   "metadata": {},
   "outputs": [
    {
     "data": {
      "text/plain": [
       "array([[84.2],\n",
       "       [80.6],\n",
       "       [80.1],\n",
       "       [90. ],\n",
       "       [83.2],\n",
       "       [79.4],\n",
       "       [93.4]])"
      ]
     },
     "execution_count": 213,
     "metadata": {},
     "output_type": "execute_result"
    }
   ],
   "source": [
    "data @ weight_mat"
   ]
  },
  {
   "cell_type": "code",
   "execution_count": 219,
   "metadata": {},
   "outputs": [],
   "source": [
    "# data * weight_mat  # 不满足广播机制，不能进行运算"
   ]
  },
  {
   "cell_type": "markdown",
   "metadata": {},
   "source": [
    "## 合并"
   ]
  },
  {
   "cell_type": "code",
   "execution_count": 227,
   "metadata": {},
   "outputs": [],
   "source": [
    "a = stock_change[:2,0:4]\n",
    "b = stock_change[4:6,0:4]"
   ]
  },
  {
   "cell_type": "code",
   "execution_count": 228,
   "metadata": {},
   "outputs": [
    {
     "data": {
      "text/plain": [
       "array([[-0.92597034, -0.82167989,  1.        , -1.06196502],\n",
       "       [ 1.        , -0.65636964, -0.14991591, -0.00804981]])"
      ]
     },
     "execution_count": 228,
     "metadata": {},
     "output_type": "execute_result"
    }
   ],
   "source": [
    "a"
   ]
  },
  {
   "cell_type": "code",
   "execution_count": 229,
   "metadata": {},
   "outputs": [
    {
     "data": {
      "text/plain": [
       "array([[-0.67692035, -0.72416274, -2.05482495, -0.72850972],\n",
       "       [ 1.        ,  0.24278486,  0.17841537, -0.30921866]])"
      ]
     },
     "execution_count": 229,
     "metadata": {},
     "output_type": "execute_result"
    }
   ],
   "source": [
    "b"
   ]
  },
  {
   "cell_type": "code",
   "execution_count": 230,
   "metadata": {},
   "outputs": [
    {
     "data": {
      "text/plain": [
       "array([[-0.92597034, -0.82167989,  1.        , -1.06196502, -0.67692035,\n",
       "        -0.72416274, -2.05482495, -0.72850972],\n",
       "       [ 1.        , -0.65636964, -0.14991591, -0.00804981,  1.        ,\n",
       "         0.24278486,  0.17841537, -0.30921866]])"
      ]
     },
     "execution_count": 230,
     "metadata": {},
     "output_type": "execute_result"
    }
   ],
   "source": [
    "np.hstack((a,b))"
   ]
  },
  {
   "cell_type": "code",
   "execution_count": 231,
   "metadata": {},
   "outputs": [
    {
     "data": {
      "text/plain": [
       "array([[-0.92597034, -0.82167989,  1.        , -1.06196502, -0.67692035,\n",
       "        -0.72416274, -2.05482495, -0.72850972],\n",
       "       [ 1.        , -0.65636964, -0.14991591, -0.00804981,  1.        ,\n",
       "         0.24278486,  0.17841537, -0.30921866]])"
      ]
     },
     "execution_count": 231,
     "metadata": {},
     "output_type": "execute_result"
    }
   ],
   "source": [
    "np.concatenate((a,b),axis = 1)"
   ]
  },
  {
   "cell_type": "code",
   "execution_count": 232,
   "metadata": {},
   "outputs": [
    {
     "data": {
      "text/plain": [
       "array([[-0.92597034, -0.82167989,  1.        , -1.06196502],\n",
       "       [ 1.        , -0.65636964, -0.14991591, -0.00804981],\n",
       "       [-0.67692035, -0.72416274, -2.05482495, -0.72850972],\n",
       "       [ 1.        ,  0.24278486,  0.17841537, -0.30921866]])"
      ]
     },
     "execution_count": 232,
     "metadata": {},
     "output_type": "execute_result"
    }
   ],
   "source": [
    "np.vstack((a,b))"
   ]
  },
  {
   "cell_type": "code",
   "execution_count": 233,
   "metadata": {},
   "outputs": [
    {
     "data": {
      "text/plain": [
       "array([[-0.92597034, -0.82167989,  1.        , -1.06196502],\n",
       "       [ 1.        , -0.65636964, -0.14991591, -0.00804981],\n",
       "       [-0.67692035, -0.72416274, -2.05482495, -0.72850972],\n",
       "       [ 1.        ,  0.24278486,  0.17841537, -0.30921866]])"
      ]
     },
     "execution_count": 233,
     "metadata": {},
     "output_type": "execute_result"
    }
   ],
   "source": [
    "np.concatenate((a,b),axis = 0)"
   ]
  },
  {
   "cell_type": "code",
   "execution_count": null,
   "metadata": {},
   "outputs": [],
   "source": []
  }
 ],
 "metadata": {
  "kernelspec": {
   "display_name": "Python 3",
   "language": "python",
   "name": "python3"
  },
  "language_info": {
   "codemirror_mode": {
    "name": "ipython",
    "version": 3
   },
   "file_extension": ".py",
   "mimetype": "text/x-python",
   "name": "python",
   "nbconvert_exporter": "python",
   "pygments_lexer": "ipython3",
   "version": "3.7.1"
  }
 },
 "nbformat": 4,
 "nbformat_minor": 2
}
