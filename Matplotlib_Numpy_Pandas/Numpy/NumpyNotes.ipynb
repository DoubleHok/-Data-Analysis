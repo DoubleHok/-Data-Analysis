{
 "cells": [
  {
   "cell_type": "markdown",
   "metadata": {},
   "source": [
    "##  Numpy学习笔记"
   ]
  },
  {
   "cell_type": "markdown",
   "metadata": {},
   "source": [
    "### 创建数组"
   ]
  },
  {
   "cell_type": "code",
   "execution_count": 58,
   "metadata": {},
   "outputs": [
    {
     "name": "stdout",
     "output_type": "stream",
     "text": [
      "[1 2 3 4 5] <class 'numpy.ndarray'>\n",
      "[1 2 3 4 5] <class 'numpy.ndarray'>\n",
      "[1 2 3 4 5] <class 'numpy.ndarray'>\n",
      "int32\n"
     ]
    }
   ],
   "source": [
    "import numpy as np\n",
    "a = np.array([1,2,3,4,5])\n",
    "print(a,type(a))\n",
    "b = np.array(range(1,6))\n",
    "print(b,type(b))\n",
    "c = np.arange(1,6)\n",
    "print(c,type(c))\n",
    "# 以上三种方式产生的数组相同\n",
    "#数据类型\n",
    "print(a.dtype)"
   ]
  },
  {
   "cell_type": "code",
   "execution_count": 59,
   "metadata": {},
   "outputs": [
    {
     "name": "stdout",
     "output_type": "stream",
     "text": [
      "[1 0 1 0] <class 'numpy.ndarray'>\n"
     ]
    }
   ],
   "source": [
    "#指定创建的数组的数据类型\n",
    "d = np.array([1,0,1,0],dtype=\"u1\") # 或者使用dtpye=\"?\"\n",
    "print(d,type(d))"
   ]
  },
  {
   "cell_type": "code",
   "execution_count": 60,
   "metadata": {},
   "outputs": [
    {
     "data": {
      "text/plain": [
       "array([1, 0, 1, 0], dtype=int16)"
      ]
     },
     "execution_count": 60,
     "metadata": {},
     "output_type": "execute_result"
    }
   ],
   "source": [
    "# 修改数组的数据类型\n",
    "d.astype(\"i2\")"
   ]
  },
  {
   "cell_type": "code",
   "execution_count": 61,
   "metadata": {},
   "outputs": [
    {
     "name": "stdout",
     "output_type": "stream",
     "text": [
      "[0.048432 0.053254 0.054636] <class 'numpy.ndarray'>\n"
     ]
    },
    {
     "data": {
      "text/plain": [
       "array([0.048, 0.053, 0.055])"
      ]
     },
     "execution_count": 61,
     "metadata": {},
     "output_type": "execute_result"
    }
   ],
   "source": [
    "# 修改浮点型的小数位数\n",
    "e = np.array([0.048432,0.053254,0.054636])\n",
    "print(e,type(e))\n",
    "np.round(e,3)"
   ]
  },
  {
   "cell_type": "code",
   "execution_count": 62,
   "metadata": {},
   "outputs": [
    {
     "name": "stdout",
     "output_type": "stream",
     "text": [
      "[[3 4 5 6 6 7]\n",
      " [4 5 6 7 8 9]\n",
      " [4 5 6 7 8 9]]\n"
     ]
    },
    {
     "data": {
      "text/plain": [
       "(3, 6)"
      ]
     },
     "execution_count": 62,
     "metadata": {},
     "output_type": "execute_result"
    }
   ],
   "source": [
    "\n",
    "#数组的形状\n",
    "f = np.array([[3,4,5,6,6,7],[4,5,6,7,8,9],[4,5,6,7,8,9]])\n",
    "print(f)\n",
    "#查看数组的形状\n",
    "f.shape"
   ]
  },
  {
   "cell_type": "code",
   "execution_count": 63,
   "metadata": {},
   "outputs": [
    {
     "name": "stdout",
     "output_type": "stream",
     "text": [
      "原始数组：\n",
      "[0 1 2 3 4 5 6 7]\n",
      "--------------------\n",
      "修改后的数组：\n",
      "[[0 1]\n",
      " [2 3]\n",
      " [4 5]\n",
      " [6 7]]\n",
      "(8,)\n",
      "(4, 2)\n"
     ]
    },
    {
     "data": {
      "text/plain": [
       "array([3, 4, 5, 6, 6, 7, 4, 5, 6, 7, 8, 9, 4, 5, 6, 7, 8, 9])"
      ]
     },
     "execution_count": 63,
     "metadata": {},
     "output_type": "execute_result"
    }
   ],
   "source": [
    "#修改数组的形状\n",
    "g = np.arange(8)\n",
    "print ('原始数组：')\n",
    "print (g)\n",
    "print ('--------------------')\n",
    "h = g.reshape(4,2)\n",
    "print ('修改后的数组：')\n",
    "print (h)\n",
    "print(g.shape)\n",
    "print(h.shape)\n",
    "\n",
    "f.reshape(2,9)\n",
    "f.shape #out(3,6)\n",
    "f.flatten() # 与f.reshape(1,18)输出结果相同"
   ]
  },
  {
   "cell_type": "code",
   "execution_count": 73,
   "metadata": {},
   "outputs": [
    {
     "name": "stdout",
     "output_type": "stream",
     "text": [
      "[[ 4  5  6  7  7  8]\n",
      " [ 5  6  7  8  9 10]\n",
      " [ 5  6  7  8  9 10]]\n",
      "**************************************************\n",
      "[[1 2 3 4 4 5]\n",
      " [2 3 4 5 6 7]\n",
      " [2 3 4 5 6 7]]\n",
      "[[ 6  8 10 12 12 14]\n",
      " [ 8 10 12 14 16 18]\n",
      " [ 8 10 12 14 16 18]]\n",
      "**************************************************\n",
      "[[1 2 2 3 3 3]\n",
      " [2 2 3 3 4 4]\n",
      " [2 2 3 3 4 4]]\n"
     ]
    }
   ],
   "source": [
    "#数组和数的计算\n",
    "#加法减法\n",
    "i = np.array([[3, 4, 5, 6, 6, 7],[4, 5, 6, 7, 8, 9],[4, 5, 6, 7, 8, 9]])\n",
    "print(i+1)\n",
    "print(\"*\"*50)\n",
    "print(i-2)\n",
    "#乘法除法\n",
    "print(i*2)\n",
    "print(\"*\"*50)\n",
    "print(i//2)"
   ]
  },
  {
   "cell_type": "markdown",
   "metadata": {},
   "source": [
    "### 数组与数组间的计算"
   ]
  },
  {
   "cell_type": "code",
   "execution_count": 93,
   "metadata": {},
   "outputs": [
    {
     "name": "stdout",
     "output_type": "stream",
     "text": [
      "数组j:\n",
      "[[3 4 5 6 6 7]\n",
      " [4 5 6 7 8 9]\n",
      " [4 5 6 7 8 9]]\n",
      "**************************************************\n",
      "数组k:\n",
      "[[3 4 5 6 6 7]\n",
      " [4 5 6 7 8 9]\n",
      " [4 5 6 7 8 9]]\n",
      "数组n:\n",
      "[1 2 3 4 5 6]\n",
      "--------------------------------------------------\n",
      "相同维度数组之间的加减法\n",
      "[[ 6  8 10 12 12 14]\n",
      " [ 8 10 12 14 16 18]\n",
      " [ 8 10 12 14 16 18]]\n",
      "++++++++++++++++++++++++++++++++++++++++++++++++++\n",
      "相同维度数组之间的乘除法\n",
      "[[ 9 16 25 36 36 49]\n",
      " [16 25 36 49 64 81]\n",
      " [16 25 36 49 64 81]]\n",
      "@@@@@@@@@@@@@@@@@@@@@@@@@@@@@@@@@@@@@@@@\n",
      "不同维度数组之间的加减法\n",
      "[[ 4  6  8 10 11 13]\n",
      " [ 5  7  9 11 13 15]\n",
      " [ 5  7  9 11 13 15]]\n",
      "！！！！！！！！！！！！！！！！！！！！！！！！！！！！！！！！！！！！！！！！\n",
      "不同维度数组之间的乘除法\n",
      "[[ 3  8 15 24 30 42]\n",
      " [ 4 10 18 28 40 54]\n",
      " [ 4 10 18 28 40 54]]\n"
     ]
    }
   ],
   "source": [
    "#数组和数组的计算\n",
    "j = i\n",
    "k = f\n",
    "n = np.arange(1,7)\n",
    "print(\"数组j:\")\n",
    "print(j)\n",
    "print(\"*\"*50)\n",
    "print(\"数组k:\")\n",
    "print(k)\n",
    "print(\"数组n:\")\n",
    "print(n)\n",
    "\n",
    "# 相同数组之间的加减法\n",
    "l = j+k\n",
    "print(\"-\"*50)\n",
    "print(\"相同维度数组之间的加减法\")\n",
    "print(l)\n",
    "\n",
    "# 相同维度数组之间的乘除法\n",
    "m = j*k\n",
    "print(\"+\"*50)\n",
    "print(\"相同维度数组之间的乘除法\")\n",
    "print(m)\n",
    "\n",
    "#不同维度数组之间的加减法\n",
    "print(\"@\"*40)\n",
    "print(\"不同维度数组之间的加减法\") # 数组n的每一行与数组i的每一行相加\n",
    "print(n+i)\n",
    "\n",
    "#不同维度数组之间的乘除法\n",
    "n = np.arange(1,7)\n",
    "print(\"！\"*40)\n",
    "print(\"不同维度数组之间的乘除法\") # 数组n的每一行与数组i的每一行相乘\n",
    "print(n*i)\n",
    "# 广播原则：如果两个数组的后缘维度（trailing dimension）即从末尾开始算起的维度的轴长\n",
    "# 度相符或其中一方的长度为1，则认为它们是广播兼容的。广播会在缺失和（或）长度为1的维度上进行\n",
    "# shape为（3，3，3）和shape为（3，2）的数组可以计算\n",
    "# shape为（3，3，2）和shape为（3，2）的数组不可以计算"
   ]
  },
  {
   "cell_type": "markdown",
   "metadata": {},
   "source": [
    "### Numpy中的转置"
   ]
  },
  {
   "cell_type": "code",
   "execution_count": 102,
   "metadata": {},
   "outputs": [
    {
     "name": "stdout",
     "output_type": "stream",
     "text": [
      "[[ 0  1  2  3  4  5]\n",
      " [ 6  7  8  9 10 11]\n",
      " [12 13 14 15 16 17]]\n",
      "数组p的转置结果：\n",
      "[[ 0  6 12]\n",
      " [ 1  7 13]\n",
      " [ 2  8 14]\n",
      " [ 3  9 15]\n",
      " [ 4 10 16]\n",
      " [ 5 11 17]]\n"
     ]
    }
   ],
   "source": [
    "o = np.arange(0,18)\n",
    "p = o.reshape(3,6)\n",
    "print(p)\n",
    "# 转置\n",
    "q = p.transpose() # p.swapaxes(1,0)或者p.T 能达到相同效果\n",
    "#q = p.T\n",
    "print(\"数组p的转置结果：\")\n",
    "print(q)"
   ]
  },
  {
   "cell_type": "markdown",
   "metadata": {},
   "source": [
    "### Numpy读取数据"
   ]
  },
  {
   "cell_type": "code",
   "execution_count": 114,
   "metadata": {},
   "outputs": [
    {
     "name": "stdout",
     "output_type": "stream",
     "text": [
      "[[7426393   78240   13548     705]\n",
      " [ 494203    2651    1309       0]\n",
      " [ 142819   13119     151    1141]\n",
      " ...\n",
      " [ 109222    4840      35     212]\n",
      " [ 626223   22962     532    1559]\n",
      " [  99228    1699      23     135]]\n",
      "**************************************************\n",
      "[7426393   13119    1141]\n"
     ]
    }
   ],
   "source": [
    "import numpy as np\n",
    "# file = np.loadtxt(fname,dtype = np.float,delimiter=None,skiprows=0,usecols=None,unpack=False)\n",
    "us_file_path = \"./youtube_video_data/US_video_data_numbers.csv\"\n",
    "uk_file_path = \"./youtube_video_data/GB_video_data_numbers.csv\"\n",
    "#t1 = np.loadtxt(us_file_path ,delimiter=\",\",dtype=\"int\",unpack=True)\n",
    "t2 = np.loadtxt(uk_file_path ,delimiter=\",\",dtype=\"int\")\n",
    "# print(t1)\n",
    "print(t2)\n",
    "print(\"*\"*50)\n",
    "\n",
    "#取行\n",
    "#print(t2[2])\n",
    "\n",
    "#取连续的多行\n",
    "#print(t2[2:])\n",
    "\n",
    "#取不连续的多行\n",
    "#print(t2[[2,8,10]])\n",
    "\n",
    "#取列\n",
    "#print(t2[:,0])\n",
    "\n",
    "#取连续的多列\n",
    "#print(t2[:,2:])\n",
    "\n",
    "#取不连续的多列，取1，2列\n",
    "#print(t2[:,[0,2]])\n",
    "\n",
    "#取行和列，取第3行，第四列的值\n",
    "# a = t2[2,3]\n",
    "# print(a)\n",
    "# print(type(a))\n",
    "\n",
    "#取多行和多列，取第3行到第五行，第2列到第4列的结果\n",
    "#取的是行和列交叉点的位置\n",
    "# b = t2[2:5,1:4]\n",
    "# print(b)\n",
    "\n",
    "#取多个不相邻的点，\n",
    "#选出来的结果是（0，0） （2，1） （2，3）\n",
    "c = t2[[0,2,2],[0,1,3]]# [0,2,2]代表所要取的行，[0,1,3]代表所要取的列\n",
    "print(c)\n",
    "\n"
   ]
  },
  {
   "cell_type": "markdown",
   "metadata": {},
   "source": [
    "### Numpy中数值的修改"
   ]
  },
  {
   "cell_type": "code",
   "execution_count": 118,
   "metadata": {},
   "outputs": [
    {
     "name": "stdout",
     "output_type": "stream",
     "text": [
      "修改前的t值：\n",
      "[[ 0  1  2  3  4  5]\n",
      " [ 6  7  8  9 10 11]\n",
      " [12 13 14 15 16 17]\n",
      " [18 19 20 21 22 23]]\n",
      "修改后的t值：\n",
      "[[ 0  1  0  0  4  5]\n",
      " [ 6  7  0  0 10 11]\n",
      " [12 13  0  0 16 17]\n",
      " [18 19  0  0 22 23]]\n"
     ]
    }
   ],
   "source": [
    "r = np.arange(0,24)\n",
    "t = r.reshape(4,6)\n",
    "print(\"修改前的t值：\")\n",
    "print(t)\n",
    "t[:,2:4] = 0\n",
    "print(\"修改后的t值：\")\n",
    "print(t)"
   ]
  },
  {
   "cell_type": "markdown",
   "metadata": {},
   "source": [
    "### Numpy中布尔索引"
   ]
  },
  {
   "cell_type": "code",
   "execution_count": 130,
   "metadata": {},
   "outputs": [
    {
     "name": "stdout",
     "output_type": "stream",
     "text": [
      "[[ True  True  True  True  True  True]\n",
      " [ True  True  True  True False False]\n",
      " [False False  True  True False False]\n",
      " [False False  True  True False False]]\n",
      "##################################################\n",
      "[[ 1  1  1  1  1  1]\n",
      " [ 1  1  1  1 10 11]\n",
      " [12 13  1  1 16 17]\n",
      " [18 19  1  1 22 23]]\n"
     ]
    }
   ],
   "source": [
    "u = t\n",
    "print(u < 10)\n",
    "#数组中小于10的全部重新赋值为1\n",
    "print(\"#\"*50)\n",
    "u[u<10] = 1 \n",
    "print(u)"
   ]
  },
  {
   "cell_type": "markdown",
   "metadata": {},
   "source": [
    "### 三元运算符"
   ]
  },
  {
   "cell_type": "code",
   "execution_count": 131,
   "metadata": {},
   "outputs": [
    {
     "name": "stdout",
     "output_type": "stream",
     "text": [
      "$$$$$$$$$$$$$$$$$$$$$$$$$$$$$$$$$$$$$$$$$$$$$$$$$$\n",
      "数组v中大于10的赋值为10，小于10的赋值为0：\n",
      "[[ 0  0  0  0  0  0]\n",
      " [ 0  0  0  0 10 10]\n",
      " [10 10 10 10 10 10]\n",
      " [10 10 10 10 10 10]]\n"
     ]
    }
   ],
   "source": [
    "# 三元运算符\n",
    "print(\"$\"*50)\n",
    "v = np.arange(0,24).reshape(4,6)\n",
    "w = np.where(v<10,0,10)\n",
    "print(\"数组v中大于10的赋值为10，小于10的赋值为0：\")\n",
    "print(w)"
   ]
  },
  {
   "cell_type": "markdown",
   "metadata": {},
   "source": [
    "### Numpy中的clip（裁剪）"
   ]
  },
  {
   "cell_type": "code",
   "execution_count": 134,
   "metadata": {},
   "outputs": [
    {
     "name": "stdout",
     "output_type": "stream",
     "text": [
      "[[10. 10. 10. 10. 10. 10.]\n",
      " [10. 10. 10. 10. 10. 11.]\n",
      " [12. 13. 14. 15. 16. 17.]\n",
      " [18. 18. 18. 18. 18. 18.]]\n"
     ]
    }
   ],
   "source": [
    "x = np.arange(0,24,dtype=\"float\").reshape(4,6)\n",
    "y = x.clip(10,18)#小于10的替换为10，大于18的替换为18 \n",
    "print(y)"
   ]
  },
  {
   "cell_type": "code",
   "execution_count": 137,
   "metadata": {},
   "outputs": [
    {
     "name": "stdout",
     "output_type": "stream",
     "text": [
      "inf <class 'float'>\n",
      "nan <class 'float'>\n"
     ]
    }
   ],
   "source": [
    "# inf表示infinity（无穷） -inf 表示负无穷 类型为float\n",
    "z = np.inf \n",
    "print(z,type(z))"
   ]
  },
  {
   "cell_type": "markdown",
   "metadata": {},
   "source": [
    "### Numpy中的nan的注意点"
   ]
  },
  {
   "cell_type": "code",
   "execution_count": 145,
   "metadata": {},
   "outputs": [
    {
     "name": "stdout",
     "output_type": "stream",
     "text": [
      "nan <class 'float'>\n",
      "2 <class 'int'>\n",
      "[1. 2. 0. 0.]\n"
     ]
    }
   ],
   "source": [
    "a = np.nan\n",
    "print(a,type(a)) # nan表示 not a number 类型为float\n",
    "#两个nan是不相等的\n",
    "np.nan == np.nan #输出False\n",
    "np.nan != np.nan #输出True\n",
    "# 利用np.nan != np.nan特性,判断 数组中nan的个数\n",
    "b = np.array([1.,2.,np.nan,np.nan])\n",
    "c = np.count_nonzero(b!=b)\n",
    "print(c,type(c))\n",
    "#判断数字是否为nan，并把nan赋值为0\n",
    "b[np.isnan(b)] = 0\n",
    "print(b) # 输出为：[1. 2. 0. 0.]\n",
    "#nan和任何值计算都为nan "
   ]
  },
  {
   "cell_type": "markdown",
   "metadata": {},
   "source": [
    "### Numpy中常用的统计函数"
   ]
  },
  {
   "cell_type": "code",
   "execution_count": 147,
   "metadata": {},
   "outputs": [],
   "source": [
    "#求和\n",
    "# t.sum(axis=None)\n",
    "# #均值\n",
    "# t.mean(a,axis=None)#受离群点的影响较大\n",
    "# #中值\n",
    "# np.median(t,axis=None)\n",
    "# #最大值\n",
    "# t.max(axis=None)\n",
    "# #最小值\n",
    "# t.min(axis=None)\n",
    "# #极值\n",
    "# np.ptp(t,axis=None)#极大值与极小值之差\n",
    "# #标准差\n",
    "# t.std(axis=None)"
   ]
  },
  {
   "cell_type": "markdown",
   "metadata": {},
   "source": [
    "### ndarry缺失值填充均值"
   ]
  },
  {
   "cell_type": "code",
   "execution_count": 152,
   "metadata": {},
   "outputs": [
    {
     "name": "stdout",
     "output_type": "stream",
     "text": [
      "[[ 0.  1.  2.  3.  4.  5.]\n",
      " [ 6.  7.  8.  9. 10. 11.]\n",
      " [12. 13. 14. 15. 16. 17.]\n",
      " [18. 19. 20. 21. 22. 23.]] <class 'numpy.ndarray'>\n"
     ]
    }
   ],
   "source": [
    "c = np.arange(0,24,dtype=\"float\").reshape(4,6)\n",
    "print(c,type(c))\n",
    "def fill_nan_by_column_mean(c):\n",
    "    for i in range(c.shape[1]):\n",
    "        nan_num = np.count_nonzero(c[:,i][c[:,i] != t[:,i]])# 计算非nan的个数\n",
    "        if nan_num>0: #存在nan值\n",
    "            now_col = t[:,i]\n",
    "            now_col_not_nan = now_col[np.isnan(now_col) == False].sum()#求和\n",
    "            now_col_mean = now_col_not_nan/(c.shape[0] - nan_num) #和/个数\n",
    "            now_col[np.isnan(now_col)] = now_col_mean # 赋值给now_col\n",
    "            c[:,i] = now_col #赋值给t，即更新t的当前列"
   ]
  },
  {
   "cell_type": "markdown",
   "metadata": {},
   "source": [
    "### YouTube视频中评论数直方图"
   ]
  },
  {
   "cell_type": "code",
   "execution_count": 164,
   "metadata": {},
   "outputs": [
    {
     "name": "stdout",
     "output_type": "stream",
     "text": [
      "4923 0\n"
     ]
    },
    {
     "data": {
      "image/png": "[encoded data removed]",
      "text/plain": [
       "<Figure size 2000x1000 with 1 Axes>"
      ]
     },
     "metadata": {
      "needs_background": "light"
     },
     "output_type": "display_data"
    }
   ],
   "source": [
    "from matplotlib import pyplot as plt\n",
    "import numpy as np\n",
    "# file = np.loadtxt(fname,dtype = np.float,delimiter=None,skiprows=0,usecols=None,unpack=False)\n",
    "us_file_path = \"./youtube_video_data/US_video_data_numbers.csv\"\n",
    "uk_file_path = \"./youtube_video_data/GB_video_data_numbers.csv\"\n",
    "#t1 = np.loadtxt(us_file_path ,delimiter=\",\",dtype=\"int\",unpack=True)\n",
    "t2 = np.loadtxt(uk_file_path ,delimiter=\",\",dtype=\"int\")\n",
    "comments = t2[:1000,3]\n",
    "#由于大多数数据都是小于5000，故选择小于5000的数据来绘制直方图\n",
    "comments = comments[comments<=5000]\n",
    "print(comments.max(),comments.min())\n",
    "# print(comments)\n",
    "d = 50 # 组距\n",
    "bins_num = (max(comments) - min(comments))//d\n",
    "plt.figure(figsize=(20,10),dpi=100)\n",
    "plt.hist(comments,bins_num)\n",
    "plt.xlabel(\"comments\")\n",
    "plt.ylabel(\"persons\")\n",
    "plt.title(\"Comment number distribution proportion\")\n",
    "plt.show()\n"
   ]
  },
  {
   "cell_type": "markdown",
   "metadata": {},
   "source": [
    "### 数组的拼接"
   ]
  },
  {
   "cell_type": "code",
   "execution_count": 157,
   "metadata": {},
   "outputs": [
    {
     "name": "stdout",
     "output_type": "stream",
     "text": [
      "[[ 0  1  2  3  4  5]\n",
      " [ 6  7  8  9 10 11]]\n",
      "%%%%%%%%%%%%%%%%%%%%%%%%%%%%%%%%%%%%%%%%%%%%%%%%%%\n",
      "[[12 13 14 15 16 17]\n",
      " [18 19 20 21 22 23]]\n"
     ]
    }
   ],
   "source": [
    "d = np.arange(0,12).reshape(2,6)\n",
    "e = np.arange(12,24).reshape(2,6)\n",
    "print(d)\n",
    "print(\"%\"*50)\n",
    "print(e)\n",
    "#竖直拼接(vertically)\n",
    "f = np.vstack((d,e))\n",
    "#水平拼接(horizontally)\n",
    "g = np.vstack((d,e))\n"
   ]
  },
  {
   "cell_type": "markdown",
   "metadata": {},
   "source": [
    "### 数组的行列交换"
   ]
  },
  {
   "cell_type": "code",
   "execution_count": 165,
   "metadata": {},
   "outputs": [
    {
     "name": "stdout",
     "output_type": "stream",
     "text": [
      "[[12 13 14 15]\n",
      " [16 17 18 19]\n",
      " [20 21 22 23]]\n",
      "行交换后的数组h\n",
      "[[12 13 14 15]\n",
      " [20 21 22 23]\n",
      " [16 17 18 19]]\n",
      "列交换后的数组h\n",
      "[[14 13 12 15]\n",
      " [22 21 20 23]\n",
      " [18 17 16 19]]\n"
     ]
    }
   ],
   "source": [
    "h = np.arange(12,24).reshape(3,4)\n",
    "print(h)\n",
    "#行交换\n",
    "h[[1,2],:] = h[[2,1],:]\n",
    "print(\"行交换后的数组h\")\n",
    "print(h)\n",
    "#列交换\n",
    "h[:,[0,2]] = h[:,[2,0]]\n",
    "print(\"列交换后的数组h\")\n",
    "print(h)"
   ]
  },
  {
   "cell_type": "markdown",
   "metadata": {},
   "source": [
    "### YouTube视频中评论数与喜欢数之间的关系图"
   ]
  },
  {
   "cell_type": "code",
   "execution_count": 172,
   "metadata": {},
   "outputs": [
    {
     "data": {
      "image/png": "[encoded data removed]",
      "text/plain": [
       "<Figure size 1600x640 with 1 Axes>"
      ]
     },
     "metadata": {
      "needs_background": "light"
     },
     "output_type": "display_data"
    }
   ],
   "source": [
    "from matplotlib import pyplot as plt\n",
    "import numpy as np\n",
    "# file = np.loadtxt(fname,dtype = np.float,delimiter=None,skiprows=0,usecols=None,unpack=False)\n",
    "us_file_path = \"./youtube_video_data/US_video_data_numbers.csv\"\n",
    "uk_file_path = \"./youtube_video_data/GB_video_data_numbers.csv\"\n",
    "#t1 = np.loadtxt(us_file_path ,delimiter=\",\",dtype=\"int\",unpack=True)\n",
    "t2 = np.loadtxt(uk_file_path ,delimiter=\",\",dtype=\"int\")\n",
    "t2 = t2[t2[:,-1]<100000]\n",
    "uk_comments = t2[:,-1]\n",
    "uk_likes = t2[:,1]\n",
    "plt.figure(figsize=(20,8),dpi=80)\n",
    "plt.scatter(uk_comments,uk_likes)\n",
    "plt.xlabel(\"comments\")\n",
    "plt.ylabel(\"likes\")\n",
    "plt.title(\"The relationship between the number of comments and likes\")\n",
    "plt.show()\n"
   ]
  },
  {
   "cell_type": "markdown",
   "metadata": {},
   "source": [
    "### Numpy中更多好用的方法"
   ]
  },
  {
   "cell_type": "code",
   "execution_count": 182,
   "metadata": {},
   "outputs": [
    {
     "data": {
      "text/plain": [
       "array([[1., 0., 0.],\n",
       "       [0., 1., 0.],\n",
       "       [0., 0., 1.]])"
      ]
     },
     "execution_count": 182,
     "metadata": {},
     "output_type": "execute_result"
    }
   ],
   "source": [
    "#获取最大值最小值的位置\n",
    "np.argmax(t,axis=0) #行中最小值的位置\n",
    "np.argmin(t,axis=1) #列中最小值的位置\n",
    "np.ones((3,4))#生成m行n列全为1的数组\n",
    "np.zeros((4,5))#生成m行n列全为0的数组\n",
    "np.eye((3))#生成3行3列正对角线全为1的数组（方阵）\n"
   ]
  },
  {
   "cell_type": "markdown",
   "metadata": {},
   "source": [
    "### 拼接两个国家的数据"
   ]
  },
  {
   "cell_type": "code",
   "execution_count": 179,
   "metadata": {},
   "outputs": [
    {
     "name": "stdout",
     "output_type": "stream",
     "text": [
      "[[4394029  320053    5931   46245       0]\n",
      " [7860119  185853   26679       0       0]\n",
      " [5845909  576597   39774  170708       0]\n",
      " ...\n",
      " [ 109222    4840      35     212       1]\n",
      " [ 626223   22962     532    1559       1]\n",
      " [  99228    1699      23     135       1]]\n"
     ]
    }
   ],
   "source": [
    "from matplotlib import pyplot as plt\n",
    "import numpy as np\n",
    "# file = np.loadtxt(fname,dtype = np.float,delimiter=None,skiprows=0,usecols=None,unpack=False)\n",
    "us_file_path = \"./youtube_video_data/US_video_data_numbers.csv\"\n",
    "uk_file_path = \"./youtube_video_data/GB_video_data_numbers.csv\"\n",
    "us_data = np.loadtxt(us_file_path ,delimiter=\",\",dtype=\"int\")\n",
    "uk_data = np.loadtxt(uk_file_path ,delimiter=\",\",dtype=\"int\")\n",
    "\n",
    "#添加国家信息  .astype 转换数据类型\n",
    "zeros_data = np.zeros((us_data.shape[0],1)).astype(int)\n",
    "ones_data = np.ones((uk_data.shape[0],1)).astype(int)\n",
    "\n",
    "#分别添加一列全为0，1的数据\n",
    "us_data = np.hstack((us_data,zeros_data))\n",
    "uk_data = np.hstack((uk_data,ones_data))\n",
    "\n",
    "#拼接两组数据\n",
    "final_data = np.vstack((us_data,uk_data))\n",
    "print(final_data)\n"
   ]
  },
  {
   "cell_type": "markdown",
   "metadata": {},
   "source": [
    "### Numpy生成随机数"
   ]
  },
  {
   "cell_type": "code",
   "execution_count": 199,
   "metadata": {},
   "outputs": [
    {
     "name": "stdout",
     "output_type": "stream",
     "text": [
      "[[0.29361415 0.28777534 0.13002857]\n",
      " [0.01936696 0.67883553 0.21162812]]\n",
      "[[-0.06249159 -1.73865429  0.103163   -0.62166685]\n",
      " [ 0.27571804 -1.09067489 -0.60998525  0.30641238]\n",
      " [ 1.69182613 -0.74795374 -0.58079722 -0.11075397]]\n",
      "[[6 4 5 6 2]\n",
      " [5 7 8 4 4]]\n",
      "[[ 7.53794572  9.13218435  5.05765428  7.99411986]\n",
      " [ 8.92971078  1.76840839  9.66286423  9.0684916 ]\n",
      " [ 4.95514724 10.68526274  4.99144413 10.53903694]]\n",
      "[[0.20083131 0.99645438 1.51259464]\n",
      " [0.83213914 2.34633628 0.38450802]]\n"
     ]
    }
   ],
   "source": [
    "#创建d0-dn维度的均匀分布的随机数数组，浮点数，范围从0-1\n",
    "i = np.random.rand(2,3) \n",
    "print(i)\n",
    "#创建d0-dn维度的标准正态分布随机数，浮点数，平均数0，标准差1\n",
    "j = np.random.randn(3,4)\n",
    "print(j)\n",
    "#从给定上下限范围先去随机数整数，范围是low,high,形状是shape\n",
    "k = np.random.randint(0,10,(2,5))\n",
    "print(k)\n",
    "#产生具有均匀分布的数组，low起始值，high结束值，size形状\n",
    "l = np.random.uniform(0,14,(3,4))\n",
    "print(l)\n",
    "#从指定正态分布中随机抽取样本，分布中心是loc（概率分布的均值),标准差是scale，形状是size\n",
    "#np.random.normal(loc,scale,(size))\n",
    "m = np.random.normal(1,1,(2,3))\n",
    "print(m)\n",
    "#随机数种子，s是给定的种子值。因为计算机生成的是伪随机数，所以通过设定相同的随机种子，可以每次神车给相同的随机数\n",
    "#n = np.random.seed(s)"
   ]
  },
  {
   "cell_type": "markdown",
   "metadata": {},
   "source": [
    "### Numpy的注意点copy和view"
   ]
  },
  {
   "cell_type": "code",
   "execution_count": null,
   "metadata": {},
   "outputs": [],
   "source": [
    "# a=b 完全不复制，a和b相互影响\n",
    "# a = b[:],视图的操作，一种切片，会创建新的对象a，但是a的数据完全由b保管，他们两个的数据变化是一致的，\n",
    "# a = b.copy(),复制，a和b互不影响"
   ]
  }
 ],
 "metadata": {
  "kernelspec": {
   "display_name": "Python 3",
   "language": "python",
   "name": "python3"
  },
  "language_info": {
   "codemirror_mode": {
    "name": "ipython",
    "version": 3
   },
   "file_extension": ".py",
   "mimetype": "text/x-python",
   "name": "python",
   "nbconvert_exporter": "python",
   "pygments_lexer": "ipython3",
   "version": "3.7.1"
  }
 },
 "nbformat": 4,
 "nbformat_minor": 2
}
