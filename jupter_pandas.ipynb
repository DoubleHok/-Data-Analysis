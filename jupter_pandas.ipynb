{
 "cells": [
  {
   "cell_type": "markdown",
   "metadata": {},
   "source": [
    "# Pandas"
   ]
  },
  {
   "cell_type": "code",
   "execution_count": 66,
   "metadata": {},
   "outputs": [],
   "source": [
    "import numpy as np\n",
    "import pandas as pd\n",
    "# 创建一个符合正太分布的10个股票5天的涨跌幅数据\n",
    "stock_change = np.random.normal(0,1,(10,5))"
   ]
  },
  {
   "cell_type": "code",
   "execution_count": 67,
   "metadata": {},
   "outputs": [
    {
     "data": {
      "text/plain": [
       "array([[ 0.53575941, -1.97388898,  0.27696999,  0.09901673, -0.41052757],\n",
       "       [-1.22104241,  0.13766419, -1.27507366, -1.03044826, -0.98849305],\n",
       "       [ 0.26696754,  0.04762418, -0.52581573, -0.10686001, -0.98605489],\n",
       "       [-0.6568066 ,  0.17359425,  0.5294378 ,  0.48601872,  2.26017697],\n",
       "       [-2.38608933, -0.56102497,  1.27708461,  0.67227919, -0.2741104 ],\n",
       "       [ 0.33798971,  0.42210365,  0.85952118,  1.09880569,  0.70754585],\n",
       "       [ 0.18619064,  1.22563964,  0.84531833, -2.17913398,  1.03333701],\n",
       "       [-0.33503899, -1.82854766, -0.61459567, -0.83077172,  0.77919578],\n",
       "       [-0.75540829, -0.62828421, -0.73000518,  1.15477956, -1.32232253],\n",
       "       [-0.64158061, -0.54114245,  0.25560708, -0.19291507, -2.73366286]])"
      ]
     },
     "execution_count": 67,
     "metadata": {},
     "output_type": "execute_result"
    }
   ],
   "source": [
    "stock_change"
   ]
  },
  {
   "cell_type": "code",
   "execution_count": 68,
   "metadata": {},
   "outputs": [
    {
     "data": {
      "text/html": [
       "<div>\n",
       "<style scoped>\n",
       "    .dataframe tbody tr th:only-of-type {\n",
       "        vertical-align: middle;\n",
       "    }\n",
       "\n",
       "    .dataframe tbody tr th {\n",
       "        vertical-align: top;\n",
       "    }\n",
       "\n",
       "    .dataframe thead th {\n",
       "        text-align: right;\n",
       "    }\n",
       "</style>\n",
       "<table border=\"1\" class=\"dataframe\">\n",
       "  <thead>\n",
       "    <tr style=\"text-align: right;\">\n",
       "      <th></th>\n",
       "      <th>0</th>\n",
       "      <th>1</th>\n",
       "      <th>2</th>\n",
       "      <th>3</th>\n",
       "      <th>4</th>\n",
       "    </tr>\n",
       "  </thead>\n",
       "  <tbody>\n",
       "    <tr>\n",
       "      <th>0</th>\n",
       "      <td>0.535759</td>\n",
       "      <td>-1.973889</td>\n",
       "      <td>0.276970</td>\n",
       "      <td>0.099017</td>\n",
       "      <td>-0.410528</td>\n",
       "    </tr>\n",
       "    <tr>\n",
       "      <th>1</th>\n",
       "      <td>-1.221042</td>\n",
       "      <td>0.137664</td>\n",
       "      <td>-1.275074</td>\n",
       "      <td>-1.030448</td>\n",
       "      <td>-0.988493</td>\n",
       "    </tr>\n",
       "    <tr>\n",
       "      <th>2</th>\n",
       "      <td>0.266968</td>\n",
       "      <td>0.047624</td>\n",
       "      <td>-0.525816</td>\n",
       "      <td>-0.106860</td>\n",
       "      <td>-0.986055</td>\n",
       "    </tr>\n",
       "    <tr>\n",
       "      <th>3</th>\n",
       "      <td>-0.656807</td>\n",
       "      <td>0.173594</td>\n",
       "      <td>0.529438</td>\n",
       "      <td>0.486019</td>\n",
       "      <td>2.260177</td>\n",
       "    </tr>\n",
       "    <tr>\n",
       "      <th>4</th>\n",
       "      <td>-2.386089</td>\n",
       "      <td>-0.561025</td>\n",
       "      <td>1.277085</td>\n",
       "      <td>0.672279</td>\n",
       "      <td>-0.274110</td>\n",
       "    </tr>\n",
       "    <tr>\n",
       "      <th>5</th>\n",
       "      <td>0.337990</td>\n",
       "      <td>0.422104</td>\n",
       "      <td>0.859521</td>\n",
       "      <td>1.098806</td>\n",
       "      <td>0.707546</td>\n",
       "    </tr>\n",
       "    <tr>\n",
       "      <th>6</th>\n",
       "      <td>0.186191</td>\n",
       "      <td>1.225640</td>\n",
       "      <td>0.845318</td>\n",
       "      <td>-2.179134</td>\n",
       "      <td>1.033337</td>\n",
       "    </tr>\n",
       "    <tr>\n",
       "      <th>7</th>\n",
       "      <td>-0.335039</td>\n",
       "      <td>-1.828548</td>\n",
       "      <td>-0.614596</td>\n",
       "      <td>-0.830772</td>\n",
       "      <td>0.779196</td>\n",
       "    </tr>\n",
       "    <tr>\n",
       "      <th>8</th>\n",
       "      <td>-0.755408</td>\n",
       "      <td>-0.628284</td>\n",
       "      <td>-0.730005</td>\n",
       "      <td>1.154780</td>\n",
       "      <td>-1.322323</td>\n",
       "    </tr>\n",
       "    <tr>\n",
       "      <th>9</th>\n",
       "      <td>-0.641581</td>\n",
       "      <td>-0.541142</td>\n",
       "      <td>0.255607</td>\n",
       "      <td>-0.192915</td>\n",
       "      <td>-2.733663</td>\n",
       "    </tr>\n",
       "  </tbody>\n",
       "</table>\n",
       "</div>"
      ],
      "text/plain": [
       "          0         1         2         3         4\n",
       "0  0.535759 -1.973889  0.276970  0.099017 -0.410528\n",
       "1 -1.221042  0.137664 -1.275074 -1.030448 -0.988493\n",
       "2  0.266968  0.047624 -0.525816 -0.106860 -0.986055\n",
       "3 -0.656807  0.173594  0.529438  0.486019  2.260177\n",
       "4 -2.386089 -0.561025  1.277085  0.672279 -0.274110\n",
       "5  0.337990  0.422104  0.859521  1.098806  0.707546\n",
       "6  0.186191  1.225640  0.845318 -2.179134  1.033337\n",
       "7 -0.335039 -1.828548 -0.614596 -0.830772  0.779196\n",
       "8 -0.755408 -0.628284 -0.730005  1.154780 -1.322323\n",
       "9 -0.641581 -0.541142  0.255607 -0.192915 -2.733663"
      ]
     },
     "execution_count": 68,
     "metadata": {},
     "output_type": "execute_result"
    }
   ],
   "source": [
    "pd.DataFrame(stock_change)"
   ]
  },
  {
   "cell_type": "code",
   "execution_count": 69,
   "metadata": {},
   "outputs": [],
   "source": [
    "# 添加行索引\n",
    "stock = [\"stocks{}\".format(i) for i in range(10)]"
   ]
  },
  {
   "cell_type": "code",
   "execution_count": 70,
   "metadata": {},
   "outputs": [],
   "source": [
    "data = pd.DataFrame(stock_change,index = stock)"
   ]
  },
  {
   "cell_type": "markdown",
   "metadata": {},
   "source": [
    "## DataFrame 的属性，比ndarray多了行列索引"
   ]
  },
  {
   "cell_type": "code",
   "execution_count": 71,
   "metadata": {},
   "outputs": [
    {
     "data": {
      "text/plain": [
       "(10, 5)"
      ]
     },
     "execution_count": 71,
     "metadata": {},
     "output_type": "execute_result"
    }
   ],
   "source": [
    "stock_change.shape"
   ]
  },
  {
   "cell_type": "code",
   "execution_count": 72,
   "metadata": {},
   "outputs": [
    {
     "data": {
      "text/html": [
       "<div>\n",
       "<style scoped>\n",
       "    .dataframe tbody tr th:only-of-type {\n",
       "        vertical-align: middle;\n",
       "    }\n",
       "\n",
       "    .dataframe tbody tr th {\n",
       "        vertical-align: top;\n",
       "    }\n",
       "\n",
       "    .dataframe thead th {\n",
       "        text-align: right;\n",
       "    }\n",
       "</style>\n",
       "<table border=\"1\" class=\"dataframe\">\n",
       "  <thead>\n",
       "    <tr style=\"text-align: right;\">\n",
       "      <th></th>\n",
       "      <th>0</th>\n",
       "      <th>1</th>\n",
       "      <th>2</th>\n",
       "      <th>3</th>\n",
       "      <th>4</th>\n",
       "    </tr>\n",
       "  </thead>\n",
       "  <tbody>\n",
       "    <tr>\n",
       "      <th>stocks0</th>\n",
       "      <td>0.535759</td>\n",
       "      <td>-1.973889</td>\n",
       "      <td>0.276970</td>\n",
       "      <td>0.099017</td>\n",
       "      <td>-0.410528</td>\n",
       "    </tr>\n",
       "    <tr>\n",
       "      <th>stocks1</th>\n",
       "      <td>-1.221042</td>\n",
       "      <td>0.137664</td>\n",
       "      <td>-1.275074</td>\n",
       "      <td>-1.030448</td>\n",
       "      <td>-0.988493</td>\n",
       "    </tr>\n",
       "    <tr>\n",
       "      <th>stocks2</th>\n",
       "      <td>0.266968</td>\n",
       "      <td>0.047624</td>\n",
       "      <td>-0.525816</td>\n",
       "      <td>-0.106860</td>\n",
       "      <td>-0.986055</td>\n",
       "    </tr>\n",
       "    <tr>\n",
       "      <th>stocks3</th>\n",
       "      <td>-0.656807</td>\n",
       "      <td>0.173594</td>\n",
       "      <td>0.529438</td>\n",
       "      <td>0.486019</td>\n",
       "      <td>2.260177</td>\n",
       "    </tr>\n",
       "    <tr>\n",
       "      <th>stocks4</th>\n",
       "      <td>-2.386089</td>\n",
       "      <td>-0.561025</td>\n",
       "      <td>1.277085</td>\n",
       "      <td>0.672279</td>\n",
       "      <td>-0.274110</td>\n",
       "    </tr>\n",
       "    <tr>\n",
       "      <th>stocks5</th>\n",
       "      <td>0.337990</td>\n",
       "      <td>0.422104</td>\n",
       "      <td>0.859521</td>\n",
       "      <td>1.098806</td>\n",
       "      <td>0.707546</td>\n",
       "    </tr>\n",
       "    <tr>\n",
       "      <th>stocks6</th>\n",
       "      <td>0.186191</td>\n",
       "      <td>1.225640</td>\n",
       "      <td>0.845318</td>\n",
       "      <td>-2.179134</td>\n",
       "      <td>1.033337</td>\n",
       "    </tr>\n",
       "    <tr>\n",
       "      <th>stocks7</th>\n",
       "      <td>-0.335039</td>\n",
       "      <td>-1.828548</td>\n",
       "      <td>-0.614596</td>\n",
       "      <td>-0.830772</td>\n",
       "      <td>0.779196</td>\n",
       "    </tr>\n",
       "    <tr>\n",
       "      <th>stocks8</th>\n",
       "      <td>-0.755408</td>\n",
       "      <td>-0.628284</td>\n",
       "      <td>-0.730005</td>\n",
       "      <td>1.154780</td>\n",
       "      <td>-1.322323</td>\n",
       "    </tr>\n",
       "    <tr>\n",
       "      <th>stocks9</th>\n",
       "      <td>-0.641581</td>\n",
       "      <td>-0.541142</td>\n",
       "      <td>0.255607</td>\n",
       "      <td>-0.192915</td>\n",
       "      <td>-2.733663</td>\n",
       "    </tr>\n",
       "  </tbody>\n",
       "</table>\n",
       "</div>"
      ],
      "text/plain": [
       "                0         1         2         3         4\n",
       "stocks0  0.535759 -1.973889  0.276970  0.099017 -0.410528\n",
       "stocks1 -1.221042  0.137664 -1.275074 -1.030448 -0.988493\n",
       "stocks2  0.266968  0.047624 -0.525816 -0.106860 -0.986055\n",
       "stocks3 -0.656807  0.173594  0.529438  0.486019  2.260177\n",
       "stocks4 -2.386089 -0.561025  1.277085  0.672279 -0.274110\n",
       "stocks5  0.337990  0.422104  0.859521  1.098806  0.707546\n",
       "stocks6  0.186191  1.225640  0.845318 -2.179134  1.033337\n",
       "stocks7 -0.335039 -1.828548 -0.614596 -0.830772  0.779196\n",
       "stocks8 -0.755408 -0.628284 -0.730005  1.154780 -1.322323\n",
       "stocks9 -0.641581 -0.541142  0.255607 -0.192915 -2.733663"
      ]
     },
     "execution_count": 72,
     "metadata": {},
     "output_type": "execute_result"
    }
   ],
   "source": [
    "data"
   ]
  },
  {
   "cell_type": "code",
   "execution_count": 73,
   "metadata": {},
   "outputs": [
    {
     "data": {
      "text/plain": [
       "Index(['stocks0', 'stocks1', 'stocks2', 'stocks3', 'stocks4', 'stocks5',\n",
       "       'stocks6', 'stocks7', 'stocks8', 'stocks9'],\n",
       "      dtype='object')"
      ]
     },
     "execution_count": 73,
     "metadata": {},
     "output_type": "execute_result"
    }
   ],
   "source": [
    "data.index"
   ]
  },
  {
   "cell_type": "code",
   "execution_count": 74,
   "metadata": {},
   "outputs": [
    {
     "data": {
      "text/plain": [
       "RangeIndex(start=0, stop=5, step=1)"
      ]
     },
     "execution_count": 74,
     "metadata": {},
     "output_type": "execute_result"
    }
   ],
   "source": [
    "data.columns"
   ]
  },
  {
   "cell_type": "code",
   "execution_count": 75,
   "metadata": {},
   "outputs": [
    {
     "data": {
      "text/html": [
       "<div>\n",
       "<style scoped>\n",
       "    .dataframe tbody tr th:only-of-type {\n",
       "        vertical-align: middle;\n",
       "    }\n",
       "\n",
       "    .dataframe tbody tr th {\n",
       "        vertical-align: top;\n",
       "    }\n",
       "\n",
       "    .dataframe thead th {\n",
       "        text-align: right;\n",
       "    }\n",
       "</style>\n",
       "<table border=\"1\" class=\"dataframe\">\n",
       "  <thead>\n",
       "    <tr style=\"text-align: right;\">\n",
       "      <th></th>\n",
       "      <th>stocks0</th>\n",
       "      <th>stocks1</th>\n",
       "      <th>stocks2</th>\n",
       "      <th>stocks3</th>\n",
       "      <th>stocks4</th>\n",
       "      <th>stocks5</th>\n",
       "      <th>stocks6</th>\n",
       "      <th>stocks7</th>\n",
       "      <th>stocks8</th>\n",
       "      <th>stocks9</th>\n",
       "    </tr>\n",
       "  </thead>\n",
       "  <tbody>\n",
       "    <tr>\n",
       "      <th>0</th>\n",
       "      <td>0.535759</td>\n",
       "      <td>-1.221042</td>\n",
       "      <td>0.266968</td>\n",
       "      <td>-0.656807</td>\n",
       "      <td>-2.386089</td>\n",
       "      <td>0.337990</td>\n",
       "      <td>0.186191</td>\n",
       "      <td>-0.335039</td>\n",
       "      <td>-0.755408</td>\n",
       "      <td>-0.641581</td>\n",
       "    </tr>\n",
       "    <tr>\n",
       "      <th>1</th>\n",
       "      <td>-1.973889</td>\n",
       "      <td>0.137664</td>\n",
       "      <td>0.047624</td>\n",
       "      <td>0.173594</td>\n",
       "      <td>-0.561025</td>\n",
       "      <td>0.422104</td>\n",
       "      <td>1.225640</td>\n",
       "      <td>-1.828548</td>\n",
       "      <td>-0.628284</td>\n",
       "      <td>-0.541142</td>\n",
       "    </tr>\n",
       "    <tr>\n",
       "      <th>2</th>\n",
       "      <td>0.276970</td>\n",
       "      <td>-1.275074</td>\n",
       "      <td>-0.525816</td>\n",
       "      <td>0.529438</td>\n",
       "      <td>1.277085</td>\n",
       "      <td>0.859521</td>\n",
       "      <td>0.845318</td>\n",
       "      <td>-0.614596</td>\n",
       "      <td>-0.730005</td>\n",
       "      <td>0.255607</td>\n",
       "    </tr>\n",
       "    <tr>\n",
       "      <th>3</th>\n",
       "      <td>0.099017</td>\n",
       "      <td>-1.030448</td>\n",
       "      <td>-0.106860</td>\n",
       "      <td>0.486019</td>\n",
       "      <td>0.672279</td>\n",
       "      <td>1.098806</td>\n",
       "      <td>-2.179134</td>\n",
       "      <td>-0.830772</td>\n",
       "      <td>1.154780</td>\n",
       "      <td>-0.192915</td>\n",
       "    </tr>\n",
       "    <tr>\n",
       "      <th>4</th>\n",
       "      <td>-0.410528</td>\n",
       "      <td>-0.988493</td>\n",
       "      <td>-0.986055</td>\n",
       "      <td>2.260177</td>\n",
       "      <td>-0.274110</td>\n",
       "      <td>0.707546</td>\n",
       "      <td>1.033337</td>\n",
       "      <td>0.779196</td>\n",
       "      <td>-1.322323</td>\n",
       "      <td>-2.733663</td>\n",
       "    </tr>\n",
       "  </tbody>\n",
       "</table>\n",
       "</div>"
      ],
      "text/plain": [
       "    stocks0   stocks1   stocks2   stocks3   stocks4   stocks5   stocks6  \\\n",
       "0  0.535759 -1.221042  0.266968 -0.656807 -2.386089  0.337990  0.186191   \n",
       "1 -1.973889  0.137664  0.047624  0.173594 -0.561025  0.422104  1.225640   \n",
       "2  0.276970 -1.275074 -0.525816  0.529438  1.277085  0.859521  0.845318   \n",
       "3  0.099017 -1.030448 -0.106860  0.486019  0.672279  1.098806 -2.179134   \n",
       "4 -0.410528 -0.988493 -0.986055  2.260177 -0.274110  0.707546  1.033337   \n",
       "\n",
       "    stocks7   stocks8   stocks9  \n",
       "0 -0.335039 -0.755408 -0.641581  \n",
       "1 -1.828548 -0.628284 -0.541142  \n",
       "2 -0.614596 -0.730005  0.255607  \n",
       "3 -0.830772  1.154780 -0.192915  \n",
       "4  0.779196 -1.322323 -2.733663  "
      ]
     },
     "execution_count": 75,
     "metadata": {},
     "output_type": "execute_result"
    }
   ],
   "source": [
    "data.T"
   ]
  },
  {
   "cell_type": "code",
   "execution_count": 76,
   "metadata": {},
   "outputs": [
    {
     "data": {
      "text/html": [
       "<div>\n",
       "<style scoped>\n",
       "    .dataframe tbody tr th:only-of-type {\n",
       "        vertical-align: middle;\n",
       "    }\n",
       "\n",
       "    .dataframe tbody tr th {\n",
       "        vertical-align: top;\n",
       "    }\n",
       "\n",
       "    .dataframe thead th {\n",
       "        text-align: right;\n",
       "    }\n",
       "</style>\n",
       "<table border=\"1\" class=\"dataframe\">\n",
       "  <thead>\n",
       "    <tr style=\"text-align: right;\">\n",
       "      <th></th>\n",
       "      <th>0</th>\n",
       "      <th>1</th>\n",
       "      <th>2</th>\n",
       "      <th>3</th>\n",
       "      <th>4</th>\n",
       "    </tr>\n",
       "  </thead>\n",
       "  <tbody>\n",
       "    <tr>\n",
       "      <th>stocks0</th>\n",
       "      <td>0.535759</td>\n",
       "      <td>-1.973889</td>\n",
       "      <td>0.276970</td>\n",
       "      <td>0.099017</td>\n",
       "      <td>-0.410528</td>\n",
       "    </tr>\n",
       "    <tr>\n",
       "      <th>stocks1</th>\n",
       "      <td>-1.221042</td>\n",
       "      <td>0.137664</td>\n",
       "      <td>-1.275074</td>\n",
       "      <td>-1.030448</td>\n",
       "      <td>-0.988493</td>\n",
       "    </tr>\n",
       "    <tr>\n",
       "      <th>stocks2</th>\n",
       "      <td>0.266968</td>\n",
       "      <td>0.047624</td>\n",
       "      <td>-0.525816</td>\n",
       "      <td>-0.106860</td>\n",
       "      <td>-0.986055</td>\n",
       "    </tr>\n",
       "  </tbody>\n",
       "</table>\n",
       "</div>"
      ],
      "text/plain": [
       "                0         1         2         3         4\n",
       "stocks0  0.535759 -1.973889  0.276970  0.099017 -0.410528\n",
       "stocks1 -1.221042  0.137664 -1.275074 -1.030448 -0.988493\n",
       "stocks2  0.266968  0.047624 -0.525816 -0.106860 -0.986055"
      ]
     },
     "execution_count": 76,
     "metadata": {},
     "output_type": "execute_result"
    }
   ],
   "source": [
    "data.head(3)# 返回头部几行，默认返回前五行"
   ]
  },
  {
   "cell_type": "code",
   "execution_count": 77,
   "metadata": {},
   "outputs": [
    {
     "data": {
      "text/html": [
       "<div>\n",
       "<style scoped>\n",
       "    .dataframe tbody tr th:only-of-type {\n",
       "        vertical-align: middle;\n",
       "    }\n",
       "\n",
       "    .dataframe tbody tr th {\n",
       "        vertical-align: top;\n",
       "    }\n",
       "\n",
       "    .dataframe thead th {\n",
       "        text-align: right;\n",
       "    }\n",
       "</style>\n",
       "<table border=\"1\" class=\"dataframe\">\n",
       "  <thead>\n",
       "    <tr style=\"text-align: right;\">\n",
       "      <th></th>\n",
       "      <th>0</th>\n",
       "      <th>1</th>\n",
       "      <th>2</th>\n",
       "      <th>3</th>\n",
       "      <th>4</th>\n",
       "    </tr>\n",
       "  </thead>\n",
       "  <tbody>\n",
       "    <tr>\n",
       "      <th>stocks8</th>\n",
       "      <td>-0.755408</td>\n",
       "      <td>-0.628284</td>\n",
       "      <td>-0.730005</td>\n",
       "      <td>1.154780</td>\n",
       "      <td>-1.322323</td>\n",
       "    </tr>\n",
       "    <tr>\n",
       "      <th>stocks9</th>\n",
       "      <td>-0.641581</td>\n",
       "      <td>-0.541142</td>\n",
       "      <td>0.255607</td>\n",
       "      <td>-0.192915</td>\n",
       "      <td>-2.733663</td>\n",
       "    </tr>\n",
       "  </tbody>\n",
       "</table>\n",
       "</div>"
      ],
      "text/plain": [
       "                0         1         2         3         4\n",
       "stocks8 -0.755408 -0.628284 -0.730005  1.154780 -1.322323\n",
       "stocks9 -0.641581 -0.541142  0.255607 -0.192915 -2.733663"
      ]
     },
     "execution_count": 77,
     "metadata": {},
     "output_type": "execute_result"
    }
   ],
   "source": [
    "data.tail(2)# 返回末尾几行，默认返回后五行"
   ]
  },
  {
   "cell_type": "code",
   "execution_count": 78,
   "metadata": {},
   "outputs": [],
   "source": [
    "# data.index[2] = \"stock88\" #不能单独修改索引"
   ]
  },
  {
   "cell_type": "code",
   "execution_count": 79,
   "metadata": {},
   "outputs": [],
   "source": [
    "stock_ = [\"stock_{}\".format(i) for i in range(10)]"
   ]
  },
  {
   "cell_type": "code",
   "execution_count": 80,
   "metadata": {},
   "outputs": [
    {
     "data": {
      "text/plain": [
       "['stock_0',\n",
       " 'stock_1',\n",
       " 'stock_2',\n",
       " 'stock_3',\n",
       " 'stock_4',\n",
       " 'stock_5',\n",
       " 'stock_6',\n",
       " 'stock_7',\n",
       " 'stock_8',\n",
       " 'stock_9']"
      ]
     },
     "execution_count": 80,
     "metadata": {},
     "output_type": "execute_result"
    }
   ],
   "source": [
    "stock_"
   ]
  },
  {
   "cell_type": "code",
   "execution_count": 81,
   "metadata": {},
   "outputs": [
    {
     "data": {
      "text/plain": [
       "Index(['stocks0', 'stocks1', 'stocks2', 'stocks3', 'stocks4', 'stocks5',\n",
       "       'stocks6', 'stocks7', 'stocks8', 'stocks9'],\n",
       "      dtype='object')"
      ]
     },
     "execution_count": 81,
     "metadata": {},
     "output_type": "execute_result"
    }
   ],
   "source": [
    "data.index"
   ]
  },
  {
   "cell_type": "code",
   "execution_count": 82,
   "metadata": {},
   "outputs": [],
   "source": [
    "data.index = stock_"
   ]
  },
  {
   "cell_type": "code",
   "execution_count": 83,
   "metadata": {},
   "outputs": [
    {
     "data": {
      "text/html": [
       "<div>\n",
       "<style scoped>\n",
       "    .dataframe tbody tr th:only-of-type {\n",
       "        vertical-align: middle;\n",
       "    }\n",
       "\n",
       "    .dataframe tbody tr th {\n",
       "        vertical-align: top;\n",
       "    }\n",
       "\n",
       "    .dataframe thead th {\n",
       "        text-align: right;\n",
       "    }\n",
       "</style>\n",
       "<table border=\"1\" class=\"dataframe\">\n",
       "  <thead>\n",
       "    <tr style=\"text-align: right;\">\n",
       "      <th></th>\n",
       "      <th>0</th>\n",
       "      <th>1</th>\n",
       "      <th>2</th>\n",
       "      <th>3</th>\n",
       "      <th>4</th>\n",
       "    </tr>\n",
       "  </thead>\n",
       "  <tbody>\n",
       "    <tr>\n",
       "      <th>stock_0</th>\n",
       "      <td>0.535759</td>\n",
       "      <td>-1.973889</td>\n",
       "      <td>0.276970</td>\n",
       "      <td>0.099017</td>\n",
       "      <td>-0.410528</td>\n",
       "    </tr>\n",
       "    <tr>\n",
       "      <th>stock_1</th>\n",
       "      <td>-1.221042</td>\n",
       "      <td>0.137664</td>\n",
       "      <td>-1.275074</td>\n",
       "      <td>-1.030448</td>\n",
       "      <td>-0.988493</td>\n",
       "    </tr>\n",
       "    <tr>\n",
       "      <th>stock_2</th>\n",
       "      <td>0.266968</td>\n",
       "      <td>0.047624</td>\n",
       "      <td>-0.525816</td>\n",
       "      <td>-0.106860</td>\n",
       "      <td>-0.986055</td>\n",
       "    </tr>\n",
       "    <tr>\n",
       "      <th>stock_3</th>\n",
       "      <td>-0.656807</td>\n",
       "      <td>0.173594</td>\n",
       "      <td>0.529438</td>\n",
       "      <td>0.486019</td>\n",
       "      <td>2.260177</td>\n",
       "    </tr>\n",
       "    <tr>\n",
       "      <th>stock_4</th>\n",
       "      <td>-2.386089</td>\n",
       "      <td>-0.561025</td>\n",
       "      <td>1.277085</td>\n",
       "      <td>0.672279</td>\n",
       "      <td>-0.274110</td>\n",
       "    </tr>\n",
       "    <tr>\n",
       "      <th>stock_5</th>\n",
       "      <td>0.337990</td>\n",
       "      <td>0.422104</td>\n",
       "      <td>0.859521</td>\n",
       "      <td>1.098806</td>\n",
       "      <td>0.707546</td>\n",
       "    </tr>\n",
       "    <tr>\n",
       "      <th>stock_6</th>\n",
       "      <td>0.186191</td>\n",
       "      <td>1.225640</td>\n",
       "      <td>0.845318</td>\n",
       "      <td>-2.179134</td>\n",
       "      <td>1.033337</td>\n",
       "    </tr>\n",
       "    <tr>\n",
       "      <th>stock_7</th>\n",
       "      <td>-0.335039</td>\n",
       "      <td>-1.828548</td>\n",
       "      <td>-0.614596</td>\n",
       "      <td>-0.830772</td>\n",
       "      <td>0.779196</td>\n",
       "    </tr>\n",
       "    <tr>\n",
       "      <th>stock_8</th>\n",
       "      <td>-0.755408</td>\n",
       "      <td>-0.628284</td>\n",
       "      <td>-0.730005</td>\n",
       "      <td>1.154780</td>\n",
       "      <td>-1.322323</td>\n",
       "    </tr>\n",
       "    <tr>\n",
       "      <th>stock_9</th>\n",
       "      <td>-0.641581</td>\n",
       "      <td>-0.541142</td>\n",
       "      <td>0.255607</td>\n",
       "      <td>-0.192915</td>\n",
       "      <td>-2.733663</td>\n",
       "    </tr>\n",
       "  </tbody>\n",
       "</table>\n",
       "</div>"
      ],
      "text/plain": [
       "                0         1         2         3         4\n",
       "stock_0  0.535759 -1.973889  0.276970  0.099017 -0.410528\n",
       "stock_1 -1.221042  0.137664 -1.275074 -1.030448 -0.988493\n",
       "stock_2  0.266968  0.047624 -0.525816 -0.106860 -0.986055\n",
       "stock_3 -0.656807  0.173594  0.529438  0.486019  2.260177\n",
       "stock_4 -2.386089 -0.561025  1.277085  0.672279 -0.274110\n",
       "stock_5  0.337990  0.422104  0.859521  1.098806  0.707546\n",
       "stock_6  0.186191  1.225640  0.845318 -2.179134  1.033337\n",
       "stock_7 -0.335039 -1.828548 -0.614596 -0.830772  0.779196\n",
       "stock_8 -0.755408 -0.628284 -0.730005  1.154780 -1.322323\n",
       "stock_9 -0.641581 -0.541142  0.255607 -0.192915 -2.733663"
      ]
     },
     "execution_count": 83,
     "metadata": {},
     "output_type": "execute_result"
    }
   ],
   "source": [
    "data"
   ]
  },
  {
   "cell_type": "code",
   "execution_count": 84,
   "metadata": {},
   "outputs": [
    {
     "data": {
      "text/html": [
       "<div>\n",
       "<style scoped>\n",
       "    .dataframe tbody tr th:only-of-type {\n",
       "        vertical-align: middle;\n",
       "    }\n",
       "\n",
       "    .dataframe tbody tr th {\n",
       "        vertical-align: top;\n",
       "    }\n",
       "\n",
       "    .dataframe thead th {\n",
       "        text-align: right;\n",
       "    }\n",
       "</style>\n",
       "<table border=\"1\" class=\"dataframe\">\n",
       "  <thead>\n",
       "    <tr style=\"text-align: right;\">\n",
       "      <th></th>\n",
       "      <th>index</th>\n",
       "      <th>0</th>\n",
       "      <th>1</th>\n",
       "      <th>2</th>\n",
       "      <th>3</th>\n",
       "      <th>4</th>\n",
       "    </tr>\n",
       "  </thead>\n",
       "  <tbody>\n",
       "    <tr>\n",
       "      <th>0</th>\n",
       "      <td>stock_0</td>\n",
       "      <td>0.535759</td>\n",
       "      <td>-1.973889</td>\n",
       "      <td>0.276970</td>\n",
       "      <td>0.099017</td>\n",
       "      <td>-0.410528</td>\n",
       "    </tr>\n",
       "    <tr>\n",
       "      <th>1</th>\n",
       "      <td>stock_1</td>\n",
       "      <td>-1.221042</td>\n",
       "      <td>0.137664</td>\n",
       "      <td>-1.275074</td>\n",
       "      <td>-1.030448</td>\n",
       "      <td>-0.988493</td>\n",
       "    </tr>\n",
       "    <tr>\n",
       "      <th>2</th>\n",
       "      <td>stock_2</td>\n",
       "      <td>0.266968</td>\n",
       "      <td>0.047624</td>\n",
       "      <td>-0.525816</td>\n",
       "      <td>-0.106860</td>\n",
       "      <td>-0.986055</td>\n",
       "    </tr>\n",
       "    <tr>\n",
       "      <th>3</th>\n",
       "      <td>stock_3</td>\n",
       "      <td>-0.656807</td>\n",
       "      <td>0.173594</td>\n",
       "      <td>0.529438</td>\n",
       "      <td>0.486019</td>\n",
       "      <td>2.260177</td>\n",
       "    </tr>\n",
       "    <tr>\n",
       "      <th>4</th>\n",
       "      <td>stock_4</td>\n",
       "      <td>-2.386089</td>\n",
       "      <td>-0.561025</td>\n",
       "      <td>1.277085</td>\n",
       "      <td>0.672279</td>\n",
       "      <td>-0.274110</td>\n",
       "    </tr>\n",
       "    <tr>\n",
       "      <th>5</th>\n",
       "      <td>stock_5</td>\n",
       "      <td>0.337990</td>\n",
       "      <td>0.422104</td>\n",
       "      <td>0.859521</td>\n",
       "      <td>1.098806</td>\n",
       "      <td>0.707546</td>\n",
       "    </tr>\n",
       "    <tr>\n",
       "      <th>6</th>\n",
       "      <td>stock_6</td>\n",
       "      <td>0.186191</td>\n",
       "      <td>1.225640</td>\n",
       "      <td>0.845318</td>\n",
       "      <td>-2.179134</td>\n",
       "      <td>1.033337</td>\n",
       "    </tr>\n",
       "    <tr>\n",
       "      <th>7</th>\n",
       "      <td>stock_7</td>\n",
       "      <td>-0.335039</td>\n",
       "      <td>-1.828548</td>\n",
       "      <td>-0.614596</td>\n",
       "      <td>-0.830772</td>\n",
       "      <td>0.779196</td>\n",
       "    </tr>\n",
       "    <tr>\n",
       "      <th>8</th>\n",
       "      <td>stock_8</td>\n",
       "      <td>-0.755408</td>\n",
       "      <td>-0.628284</td>\n",
       "      <td>-0.730005</td>\n",
       "      <td>1.154780</td>\n",
       "      <td>-1.322323</td>\n",
       "    </tr>\n",
       "    <tr>\n",
       "      <th>9</th>\n",
       "      <td>stock_9</td>\n",
       "      <td>-0.641581</td>\n",
       "      <td>-0.541142</td>\n",
       "      <td>0.255607</td>\n",
       "      <td>-0.192915</td>\n",
       "      <td>-2.733663</td>\n",
       "    </tr>\n",
       "  </tbody>\n",
       "</table>\n",
       "</div>"
      ],
      "text/plain": [
       "     index         0         1         2         3         4\n",
       "0  stock_0  0.535759 -1.973889  0.276970  0.099017 -0.410528\n",
       "1  stock_1 -1.221042  0.137664 -1.275074 -1.030448 -0.988493\n",
       "2  stock_2  0.266968  0.047624 -0.525816 -0.106860 -0.986055\n",
       "3  stock_3 -0.656807  0.173594  0.529438  0.486019  2.260177\n",
       "4  stock_4 -2.386089 -0.561025  1.277085  0.672279 -0.274110\n",
       "5  stock_5  0.337990  0.422104  0.859521  1.098806  0.707546\n",
       "6  stock_6  0.186191  1.225640  0.845318 -2.179134  1.033337\n",
       "7  stock_7 -0.335039 -1.828548 -0.614596 -0.830772  0.779196\n",
       "8  stock_8 -0.755408 -0.628284 -0.730005  1.154780 -1.322323\n",
       "9  stock_9 -0.641581 -0.541142  0.255607 -0.192915 -2.733663"
      ]
     },
     "execution_count": 84,
     "metadata": {},
     "output_type": "execute_result"
    }
   ],
   "source": [
    "data.reset_index()"
   ]
  },
  {
   "cell_type": "code",
   "execution_count": 85,
   "metadata": {},
   "outputs": [
    {
     "data": {
      "text/plain": [
       "(10, 6)"
      ]
     },
     "execution_count": 85,
     "metadata": {},
     "output_type": "execute_result"
    }
   ],
   "source": [
    "data.reset_index().shape"
   ]
  },
  {
   "cell_type": "code",
   "execution_count": 86,
   "metadata": {},
   "outputs": [
    {
     "data": {
      "text/html": [
       "<div>\n",
       "<style scoped>\n",
       "    .dataframe tbody tr th:only-of-type {\n",
       "        vertical-align: middle;\n",
       "    }\n",
       "\n",
       "    .dataframe tbody tr th {\n",
       "        vertical-align: top;\n",
       "    }\n",
       "\n",
       "    .dataframe thead th {\n",
       "        text-align: right;\n",
       "    }\n",
       "</style>\n",
       "<table border=\"1\" class=\"dataframe\">\n",
       "  <thead>\n",
       "    <tr style=\"text-align: right;\">\n",
       "      <th></th>\n",
       "      <th>0</th>\n",
       "      <th>1</th>\n",
       "      <th>2</th>\n",
       "      <th>3</th>\n",
       "      <th>4</th>\n",
       "    </tr>\n",
       "  </thead>\n",
       "  <tbody>\n",
       "    <tr>\n",
       "      <th>0</th>\n",
       "      <td>0.535759</td>\n",
       "      <td>-1.973889</td>\n",
       "      <td>0.276970</td>\n",
       "      <td>0.099017</td>\n",
       "      <td>-0.410528</td>\n",
       "    </tr>\n",
       "    <tr>\n",
       "      <th>1</th>\n",
       "      <td>-1.221042</td>\n",
       "      <td>0.137664</td>\n",
       "      <td>-1.275074</td>\n",
       "      <td>-1.030448</td>\n",
       "      <td>-0.988493</td>\n",
       "    </tr>\n",
       "    <tr>\n",
       "      <th>2</th>\n",
       "      <td>0.266968</td>\n",
       "      <td>0.047624</td>\n",
       "      <td>-0.525816</td>\n",
       "      <td>-0.106860</td>\n",
       "      <td>-0.986055</td>\n",
       "    </tr>\n",
       "    <tr>\n",
       "      <th>3</th>\n",
       "      <td>-0.656807</td>\n",
       "      <td>0.173594</td>\n",
       "      <td>0.529438</td>\n",
       "      <td>0.486019</td>\n",
       "      <td>2.260177</td>\n",
       "    </tr>\n",
       "    <tr>\n",
       "      <th>4</th>\n",
       "      <td>-2.386089</td>\n",
       "      <td>-0.561025</td>\n",
       "      <td>1.277085</td>\n",
       "      <td>0.672279</td>\n",
       "      <td>-0.274110</td>\n",
       "    </tr>\n",
       "    <tr>\n",
       "      <th>5</th>\n",
       "      <td>0.337990</td>\n",
       "      <td>0.422104</td>\n",
       "      <td>0.859521</td>\n",
       "      <td>1.098806</td>\n",
       "      <td>0.707546</td>\n",
       "    </tr>\n",
       "    <tr>\n",
       "      <th>6</th>\n",
       "      <td>0.186191</td>\n",
       "      <td>1.225640</td>\n",
       "      <td>0.845318</td>\n",
       "      <td>-2.179134</td>\n",
       "      <td>1.033337</td>\n",
       "    </tr>\n",
       "    <tr>\n",
       "      <th>7</th>\n",
       "      <td>-0.335039</td>\n",
       "      <td>-1.828548</td>\n",
       "      <td>-0.614596</td>\n",
       "      <td>-0.830772</td>\n",
       "      <td>0.779196</td>\n",
       "    </tr>\n",
       "    <tr>\n",
       "      <th>8</th>\n",
       "      <td>-0.755408</td>\n",
       "      <td>-0.628284</td>\n",
       "      <td>-0.730005</td>\n",
       "      <td>1.154780</td>\n",
       "      <td>-1.322323</td>\n",
       "    </tr>\n",
       "    <tr>\n",
       "      <th>9</th>\n",
       "      <td>-0.641581</td>\n",
       "      <td>-0.541142</td>\n",
       "      <td>0.255607</td>\n",
       "      <td>-0.192915</td>\n",
       "      <td>-2.733663</td>\n",
       "    </tr>\n",
       "  </tbody>\n",
       "</table>\n",
       "</div>"
      ],
      "text/plain": [
       "          0         1         2         3         4\n",
       "0  0.535759 -1.973889  0.276970  0.099017 -0.410528\n",
       "1 -1.221042  0.137664 -1.275074 -1.030448 -0.988493\n",
       "2  0.266968  0.047624 -0.525816 -0.106860 -0.986055\n",
       "3 -0.656807  0.173594  0.529438  0.486019  2.260177\n",
       "4 -2.386089 -0.561025  1.277085  0.672279 -0.274110\n",
       "5  0.337990  0.422104  0.859521  1.098806  0.707546\n",
       "6  0.186191  1.225640  0.845318 -2.179134  1.033337\n",
       "7 -0.335039 -1.828548 -0.614596 -0.830772  0.779196\n",
       "8 -0.755408 -0.628284 -0.730005  1.154780 -1.322323\n",
       "9 -0.641581 -0.541142  0.255607 -0.192915 -2.733663"
      ]
     },
     "execution_count": 86,
     "metadata": {},
     "output_type": "execute_result"
    }
   ],
   "source": [
    "data.reset_index(drop = True)# True 当做新的索引，删除原来的列。默认为True"
   ]
  },
  {
   "cell_type": "code",
   "execution_count": 94,
   "metadata": {},
   "outputs": [
    {
     "data": {
      "text/plain": [
       "(10, 5)"
      ]
     },
     "execution_count": 94,
     "metadata": {},
     "output_type": "execute_result"
    }
   ],
   "source": [
    "data.reset_index(drop = True).shape"
   ]
  },
  {
   "cell_type": "code",
   "execution_count": 95,
   "metadata": {},
   "outputs": [
    {
     "data": {
      "text/html": [
       "<div>\n",
       "<style scoped>\n",
       "    .dataframe tbody tr th:only-of-type {\n",
       "        vertical-align: middle;\n",
       "    }\n",
       "\n",
       "    .dataframe tbody tr th {\n",
       "        vertical-align: top;\n",
       "    }\n",
       "\n",
       "    .dataframe thead th {\n",
       "        text-align: right;\n",
       "    }\n",
       "</style>\n",
       "<table border=\"1\" class=\"dataframe\">\n",
       "  <thead>\n",
       "    <tr style=\"text-align: right;\">\n",
       "      <th></th>\n",
       "      <th>index</th>\n",
       "      <th>0</th>\n",
       "      <th>1</th>\n",
       "      <th>2</th>\n",
       "      <th>3</th>\n",
       "      <th>4</th>\n",
       "    </tr>\n",
       "  </thead>\n",
       "  <tbody>\n",
       "    <tr>\n",
       "      <th>0</th>\n",
       "      <td>stock_0</td>\n",
       "      <td>0.535759</td>\n",
       "      <td>-1.973889</td>\n",
       "      <td>0.276970</td>\n",
       "      <td>0.099017</td>\n",
       "      <td>-0.410528</td>\n",
       "    </tr>\n",
       "    <tr>\n",
       "      <th>1</th>\n",
       "      <td>stock_1</td>\n",
       "      <td>-1.221042</td>\n",
       "      <td>0.137664</td>\n",
       "      <td>-1.275074</td>\n",
       "      <td>-1.030448</td>\n",
       "      <td>-0.988493</td>\n",
       "    </tr>\n",
       "    <tr>\n",
       "      <th>2</th>\n",
       "      <td>stock_2</td>\n",
       "      <td>0.266968</td>\n",
       "      <td>0.047624</td>\n",
       "      <td>-0.525816</td>\n",
       "      <td>-0.106860</td>\n",
       "      <td>-0.986055</td>\n",
       "    </tr>\n",
       "    <tr>\n",
       "      <th>3</th>\n",
       "      <td>stock_3</td>\n",
       "      <td>-0.656807</td>\n",
       "      <td>0.173594</td>\n",
       "      <td>0.529438</td>\n",
       "      <td>0.486019</td>\n",
       "      <td>2.260177</td>\n",
       "    </tr>\n",
       "    <tr>\n",
       "      <th>4</th>\n",
       "      <td>stock_4</td>\n",
       "      <td>-2.386089</td>\n",
       "      <td>-0.561025</td>\n",
       "      <td>1.277085</td>\n",
       "      <td>0.672279</td>\n",
       "      <td>-0.274110</td>\n",
       "    </tr>\n",
       "    <tr>\n",
       "      <th>5</th>\n",
       "      <td>stock_5</td>\n",
       "      <td>0.337990</td>\n",
       "      <td>0.422104</td>\n",
       "      <td>0.859521</td>\n",
       "      <td>1.098806</td>\n",
       "      <td>0.707546</td>\n",
       "    </tr>\n",
       "    <tr>\n",
       "      <th>6</th>\n",
       "      <td>stock_6</td>\n",
       "      <td>0.186191</td>\n",
       "      <td>1.225640</td>\n",
       "      <td>0.845318</td>\n",
       "      <td>-2.179134</td>\n",
       "      <td>1.033337</td>\n",
       "    </tr>\n",
       "    <tr>\n",
       "      <th>7</th>\n",
       "      <td>stock_7</td>\n",
       "      <td>-0.335039</td>\n",
       "      <td>-1.828548</td>\n",
       "      <td>-0.614596</td>\n",
       "      <td>-0.830772</td>\n",
       "      <td>0.779196</td>\n",
       "    </tr>\n",
       "    <tr>\n",
       "      <th>8</th>\n",
       "      <td>stock_8</td>\n",
       "      <td>-0.755408</td>\n",
       "      <td>-0.628284</td>\n",
       "      <td>-0.730005</td>\n",
       "      <td>1.154780</td>\n",
       "      <td>-1.322323</td>\n",
       "    </tr>\n",
       "    <tr>\n",
       "      <th>9</th>\n",
       "      <td>stock_9</td>\n",
       "      <td>-0.641581</td>\n",
       "      <td>-0.541142</td>\n",
       "      <td>0.255607</td>\n",
       "      <td>-0.192915</td>\n",
       "      <td>-2.733663</td>\n",
       "    </tr>\n",
       "  </tbody>\n",
       "</table>\n",
       "</div>"
      ],
      "text/plain": [
       "     index         0         1         2         3         4\n",
       "0  stock_0  0.535759 -1.973889  0.276970  0.099017 -0.410528\n",
       "1  stock_1 -1.221042  0.137664 -1.275074 -1.030448 -0.988493\n",
       "2  stock_2  0.266968  0.047624 -0.525816 -0.106860 -0.986055\n",
       "3  stock_3 -0.656807  0.173594  0.529438  0.486019  2.260177\n",
       "4  stock_4 -2.386089 -0.561025  1.277085  0.672279 -0.274110\n",
       "5  stock_5  0.337990  0.422104  0.859521  1.098806  0.707546\n",
       "6  stock_6  0.186191  1.225640  0.845318 -2.179134  1.033337\n",
       "7  stock_7 -0.335039 -1.828548 -0.614596 -0.830772  0.779196\n",
       "8  stock_8 -0.755408 -0.628284 -0.730005  1.154780 -1.322323\n",
       "9  stock_9 -0.641581 -0.541142  0.255607 -0.192915 -2.733663"
      ]
     },
     "execution_count": 95,
     "metadata": {},
     "output_type": "execute_result"
    }
   ],
   "source": [
    "data.reset_index(drop = False)"
   ]
  },
  {
   "cell_type": "code",
   "execution_count": 96,
   "metadata": {},
   "outputs": [
    {
     "data": {
      "text/plain": [
       "(10, 6)"
      ]
     },
     "execution_count": 96,
     "metadata": {},
     "output_type": "execute_result"
    }
   ],
   "source": [
    "data.reset_index().shape"
   ]
  },
  {
   "cell_type": "code",
   "execution_count": 106,
   "metadata": {},
   "outputs": [],
   "source": [
    "df = pd.DataFrame({'month':[1,4,7,10],\n",
    "                  'year':[2012,2014,2013,2014],\n",
    "                  'sale':[55,40,84,31]})"
   ]
  },
  {
   "cell_type": "code",
   "execution_count": 107,
   "metadata": {},
   "outputs": [
    {
     "data": {
      "text/html": [
       "<div>\n",
       "<style scoped>\n",
       "    .dataframe tbody tr th:only-of-type {\n",
       "        vertical-align: middle;\n",
       "    }\n",
       "\n",
       "    .dataframe tbody tr th {\n",
       "        vertical-align: top;\n",
       "    }\n",
       "\n",
       "    .dataframe thead th {\n",
       "        text-align: right;\n",
       "    }\n",
       "</style>\n",
       "<table border=\"1\" class=\"dataframe\">\n",
       "  <thead>\n",
       "    <tr style=\"text-align: right;\">\n",
       "      <th></th>\n",
       "      <th>month</th>\n",
       "      <th>year</th>\n",
       "      <th>sale</th>\n",
       "    </tr>\n",
       "  </thead>\n",
       "  <tbody>\n",
       "    <tr>\n",
       "      <th>0</th>\n",
       "      <td>1</td>\n",
       "      <td>2012</td>\n",
       "      <td>55</td>\n",
       "    </tr>\n",
       "    <tr>\n",
       "      <th>1</th>\n",
       "      <td>4</td>\n",
       "      <td>2014</td>\n",
       "      <td>40</td>\n",
       "    </tr>\n",
       "    <tr>\n",
       "      <th>2</th>\n",
       "      <td>7</td>\n",
       "      <td>2013</td>\n",
       "      <td>84</td>\n",
       "    </tr>\n",
       "    <tr>\n",
       "      <th>3</th>\n",
       "      <td>10</td>\n",
       "      <td>2014</td>\n",
       "      <td>31</td>\n",
       "    </tr>\n",
       "  </tbody>\n",
       "</table>\n",
       "</div>"
      ],
      "text/plain": [
       "   month  year  sale\n",
       "0      1  2012    55\n",
       "1      4  2014    40\n",
       "2      7  2013    84\n",
       "3     10  2014    31"
      ]
     },
     "execution_count": 107,
     "metadata": {},
     "output_type": "execute_result"
    }
   ],
   "source": [
    "df"
   ]
  },
  {
   "cell_type": "code",
   "execution_count": 109,
   "metadata": {},
   "outputs": [
    {
     "data": {
      "text/html": [
       "<div>\n",
       "<style scoped>\n",
       "    .dataframe tbody tr th:only-of-type {\n",
       "        vertical-align: middle;\n",
       "    }\n",
       "\n",
       "    .dataframe tbody tr th {\n",
       "        vertical-align: top;\n",
       "    }\n",
       "\n",
       "    .dataframe thead th {\n",
       "        text-align: right;\n",
       "    }\n",
       "</style>\n",
       "<table border=\"1\" class=\"dataframe\">\n",
       "  <thead>\n",
       "    <tr style=\"text-align: right;\">\n",
       "      <th></th>\n",
       "      <th>month</th>\n",
       "      <th>year</th>\n",
       "      <th>sale</th>\n",
       "    </tr>\n",
       "    <tr>\n",
       "      <th>month</th>\n",
       "      <th></th>\n",
       "      <th></th>\n",
       "      <th></th>\n",
       "    </tr>\n",
       "  </thead>\n",
       "  <tbody>\n",
       "    <tr>\n",
       "      <th>1</th>\n",
       "      <td>1</td>\n",
       "      <td>2012</td>\n",
       "      <td>55</td>\n",
       "    </tr>\n",
       "    <tr>\n",
       "      <th>4</th>\n",
       "      <td>4</td>\n",
       "      <td>2014</td>\n",
       "      <td>40</td>\n",
       "    </tr>\n",
       "    <tr>\n",
       "      <th>7</th>\n",
       "      <td>7</td>\n",
       "      <td>2013</td>\n",
       "      <td>84</td>\n",
       "    </tr>\n",
       "    <tr>\n",
       "      <th>10</th>\n",
       "      <td>10</td>\n",
       "      <td>2014</td>\n",
       "      <td>31</td>\n",
       "    </tr>\n",
       "  </tbody>\n",
       "</table>\n",
       "</div>"
      ],
      "text/plain": [
       "       month  year  sale\n",
       "month                   \n",
       "1          1  2012    55\n",
       "4          4  2014    40\n",
       "7          7  2013    84\n",
       "10        10  2014    31"
      ]
     },
     "execution_count": 109,
     "metadata": {},
     "output_type": "execute_result"
    }
   ],
   "source": [
    "# 以月份设置新的索引\n",
    "df.set_index(\"month\",drop = False)"
   ]
  },
  {
   "cell_type": "code",
   "execution_count": 111,
   "metadata": {},
   "outputs": [
    {
     "data": {
      "text/html": [
       "<div>\n",
       "<style scoped>\n",
       "    .dataframe tbody tr th:only-of-type {\n",
       "        vertical-align: middle;\n",
       "    }\n",
       "\n",
       "    .dataframe tbody tr th {\n",
       "        vertical-align: top;\n",
       "    }\n",
       "\n",
       "    .dataframe thead th {\n",
       "        text-align: right;\n",
       "    }\n",
       "</style>\n",
       "<table border=\"1\" class=\"dataframe\">\n",
       "  <thead>\n",
       "    <tr style=\"text-align: right;\">\n",
       "      <th></th>\n",
       "      <th>year</th>\n",
       "      <th>sale</th>\n",
       "    </tr>\n",
       "    <tr>\n",
       "      <th>month</th>\n",
       "      <th></th>\n",
       "      <th></th>\n",
       "    </tr>\n",
       "  </thead>\n",
       "  <tbody>\n",
       "    <tr>\n",
       "      <th>1</th>\n",
       "      <td>2012</td>\n",
       "      <td>55</td>\n",
       "    </tr>\n",
       "    <tr>\n",
       "      <th>4</th>\n",
       "      <td>2014</td>\n",
       "      <td>40</td>\n",
       "    </tr>\n",
       "    <tr>\n",
       "      <th>7</th>\n",
       "      <td>2013</td>\n",
       "      <td>84</td>\n",
       "    </tr>\n",
       "    <tr>\n",
       "      <th>10</th>\n",
       "      <td>2014</td>\n",
       "      <td>31</td>\n",
       "    </tr>\n",
       "  </tbody>\n",
       "</table>\n",
       "</div>"
      ],
      "text/plain": [
       "       year  sale\n",
       "month            \n",
       "1      2012    55\n",
       "4      2014    40\n",
       "7      2013    84\n",
       "10     2014    31"
      ]
     },
     "execution_count": 111,
     "metadata": {},
     "output_type": "execute_result"
    }
   ],
   "source": [
    "df.set_index(\"month\",drop = True)"
   ]
  },
  {
   "cell_type": "markdown",
   "metadata": {},
   "source": [
    "## 设置多个索引"
   ]
  },
  {
   "cell_type": "code",
   "execution_count": 115,
   "metadata": {},
   "outputs": [],
   "source": [
    "new_df = df.set_index([\"year\",\"month\"])"
   ]
  },
  {
   "cell_type": "code",
   "execution_count": 116,
   "metadata": {},
   "outputs": [
    {
     "data": {
      "text/html": [
       "<div>\n",
       "<style scoped>\n",
       "    .dataframe tbody tr th:only-of-type {\n",
       "        vertical-align: middle;\n",
       "    }\n",
       "\n",
       "    .dataframe tbody tr th {\n",
       "        vertical-align: top;\n",
       "    }\n",
       "\n",
       "    .dataframe thead th {\n",
       "        text-align: right;\n",
       "    }\n",
       "</style>\n",
       "<table border=\"1\" class=\"dataframe\">\n",
       "  <thead>\n",
       "    <tr style=\"text-align: right;\">\n",
       "      <th></th>\n",
       "      <th></th>\n",
       "      <th>sale</th>\n",
       "    </tr>\n",
       "    <tr>\n",
       "      <th>year</th>\n",
       "      <th>month</th>\n",
       "      <th></th>\n",
       "    </tr>\n",
       "  </thead>\n",
       "  <tbody>\n",
       "    <tr>\n",
       "      <th>2012</th>\n",
       "      <th>1</th>\n",
       "      <td>55</td>\n",
       "    </tr>\n",
       "    <tr>\n",
       "      <th>2014</th>\n",
       "      <th>4</th>\n",
       "      <td>40</td>\n",
       "    </tr>\n",
       "    <tr>\n",
       "      <th>2013</th>\n",
       "      <th>7</th>\n",
       "      <td>84</td>\n",
       "    </tr>\n",
       "    <tr>\n",
       "      <th>2014</th>\n",
       "      <th>10</th>\n",
       "      <td>31</td>\n",
       "    </tr>\n",
       "  </tbody>\n",
       "</table>\n",
       "</div>"
      ],
      "text/plain": [
       "            sale\n",
       "year month      \n",
       "2012 1        55\n",
       "2014 4        40\n",
       "2013 7        84\n",
       "2014 10       31"
      ]
     },
     "execution_count": 116,
     "metadata": {},
     "output_type": "execute_result"
    }
   ],
   "source": [
    "new_df"
   ]
  },
  {
   "cell_type": "code",
   "execution_count": 117,
   "metadata": {},
   "outputs": [
    {
     "data": {
      "text/plain": [
       "MultiIndex(levels=[[2012, 2013, 2014], [1, 4, 7, 10]],\n",
       "           codes=[[0, 2, 1, 2], [0, 1, 2, 3]],\n",
       "           names=['year', 'month'])"
      ]
     },
     "execution_count": 117,
     "metadata": {},
     "output_type": "execute_result"
    }
   ],
   "source": [
    "new_df.index"
   ]
  },
  {
   "cell_type": "code",
   "execution_count": 120,
   "metadata": {},
   "outputs": [
    {
     "data": {
      "text/plain": [
       "FrozenList(['year', 'month'])"
      ]
     },
     "execution_count": 120,
     "metadata": {},
     "output_type": "execute_result"
    }
   ],
   "source": [
    "new_df.index.names"
   ]
  },
  {
   "cell_type": "code",
   "execution_count": 121,
   "metadata": {},
   "outputs": [
    {
     "data": {
      "text/plain": [
       "FrozenList([[2012, 2013, 2014], [1, 4, 7, 10]])"
      ]
     },
     "execution_count": 121,
     "metadata": {},
     "output_type": "execute_result"
    }
   ],
   "source": [
    "new_df.index.levels"
   ]
  },
  {
   "cell_type": "code",
   "execution_count": null,
   "metadata": {},
   "outputs": [],
   "source": []
  },
  {
   "cell_type": "code",
   "execution_count": null,
   "metadata": {},
   "outputs": [],
   "source": []
  }
 ],
 "metadata": {
  "kernelspec": {
   "display_name": "Python 3",
   "language": "python",
   "name": "python3"
  },
  "language_info": {
   "codemirror_mode": {
    "name": "ipython",
    "version": 3
   },
   "file_extension": ".py",
   "mimetype": "text/x-python",
   "name": "python",
   "nbconvert_exporter": "python",
   "pygments_lexer": "ipython3",
   "version": "3.7.3"
  }
 },
 "nbformat": 4,
 "nbformat_minor": 2
}
